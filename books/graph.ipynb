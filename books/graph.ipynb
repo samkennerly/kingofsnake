{
 "cells": [
  {
   "cell_type": "markdown",
   "metadata": {},
   "source": [
    "# Graph\n",
    "[Draw] graphs using the [ForceAtlas2] energy model. Graphs can be [directed] and/or [weighted].\n",
    "\n",
    "For a larger example, see the [7 Degrees of Martin Brundle].\n",
    "\n",
    "\n",
    "[Draw]: https://en.wikipedia.org/wiki/Graph_drawing\n",
    "[ForceAtlas2]: https://doi.org/10.1371/journal.pone.0098679\n",
    "[directed]: https://en.wikipedia.org/wiki/Directed_graph\n",
    "[weighted]: https://en.wikipedia.org/wiki/Glossary_of_graph_theory#weighted_graph\n",
    "[7 Degrees of Martin Brundle]: https://brundling.neocities.org/"
   ]
  },
  {
   "cell_type": "code",
   "execution_count": 1,
   "metadata": {},
   "outputs": [],
   "source": [
    "from graph import GraphFrame"
   ]
  },
  {
   "cell_type": "code",
   "execution_count": 2,
   "metadata": {},
   "outputs": [],
   "source": [
    "%load_ext autoreload\n",
    "%autoreload all\n",
    "\n",
    "from graph import *"
   ]
  },
  {
   "cell_type": "code",
   "execution_count": 8,
   "metadata": {},
   "outputs": [
    {
     "data": {
      "text/plain": [
       "<Axes: xlabel='x', ylabel='y'>"
      ]
     },
     "execution_count": 8,
     "metadata": {},
     "output_type": "execute_result"
    },
    {
     "data": {
      "image/png": "[encoded data removed]",
      "text/plain": [
       "<Figure size 800x800 with 1 Axes>"
      ]
     },
     "metadata": {},
     "output_type": "display_data"
    }
   ],
   "source": [
    "kite = GraphFrame.example()\n",
    "kite.plot(color=list('rrgkgbbcmy'))"
   ]
  },
  {
   "cell_type": "code",
   "execution_count": null,
   "metadata": {},
   "outputs": [],
   "source": []
  },
  {
   "cell_type": "code",
   "execution_count": null,
   "metadata": {},
   "outputs": [],
   "source": []
  },
  {
   "cell_type": "code",
   "execution_count": null,
   "metadata": {},
   "outputs": [],
   "source": []
  },
  {
   "cell_type": "code",
   "execution_count": null,
   "metadata": {},
   "outputs": [],
   "source": []
  },
  {
   "cell_type": "markdown",
   "metadata": {},
   "source": [
    "## build a GraphFrame\n",
    "GraphFrame can import and export several different graph data structures.\n",
    "\n",
    "Internally, each graph is stored as a DataFrame with 3 columns: `source`, `target`, `weight`.\n",
    "\n",
    "For example, if the node named `a` points to the node named `b` with weight 0.1, that information is stored as the row `('a', 'b', 0.1)`.\n",
    "\n",
    "[directed graph]: https://en.wikipedia.org/wiki/Directed_graph"
   ]
  },
  {
   "cell_type": "markdown",
   "metadata": {},
   "source": [
    "**from triples:** Each link is a (source, target, weight) tuple."
   ]
  },
  {
   "cell_type": "code",
   "execution_count": null,
   "metadata": {},
   "outputs": [],
   "source": [
    "triples = (\n",
    "    ('alice', 'bob', 2),\n",
    "    ('alice', 'carol', 1),\n",
    "    ('bob', 'alice', 1),\n",
    "    ('bob', 'carol', 1),\n",
    "    ('carol', 'alice', 1),\n",
    ")\n",
    "graph = GraphFrame(triples)\n",
    "graph"
   ]
  },
  {
   "cell_type": "markdown",
   "metadata": {},
   "source": [
    "**from pairs:** Each link is a (source, target) tuple.\n",
    "\n",
    "Links are weighted by how often they appear."
   ]
  },
  {
   "cell_type": "code",
   "execution_count": null,
   "metadata": {},
   "outputs": [],
   "source": [
    "pairs = (\n",
    "    ('alice', 'bob'),\n",
    "    ('alice', 'bob'),\n",
    "    ('alice', 'carol'),\n",
    "    ('bob', 'alice'),\n",
    "    ('bob', 'carol'),\n",
    "    ('carol', 'alice'),\n",
    ")\n",
    "GraphFrame(pairs)"
   ]
  },
  {
   "cell_type": "markdown",
   "metadata": {},
   "source": [
    "**from sources:** Each node is a key. Each value is the list of nodes which point to that key."
   ]
  },
  {
   "cell_type": "code",
   "execution_count": null,
   "metadata": {},
   "outputs": [],
   "source": [
    "sources = dict()\n",
    "sources['alice'] = ['bob', 'carol']\n",
    "sources['bob'] = ['alice', 'alice']\n",
    "sources['carol'] = ['alice','bob']\n",
    "GraphFrame.from_sources(sources)"
   ]
  },
  {
   "cell_type": "markdown",
   "metadata": {},
   "source": [
    "**from targets:** Each node is a key. Each value is a list of nodes to which that key points."
   ]
  },
  {
   "cell_type": "code",
   "execution_count": null,
   "metadata": {},
   "outputs": [],
   "source": [
    "targets = dict()\n",
    "targets['alice'] = ['bob', 'bob', 'carol']\n",
    "targets['bob'] = ['alice', 'carol']\n",
    "targets['carol'] = ['alice']\n",
    "GraphFrame.from_targets(targets)"
   ]
  },
  {
   "cell_type": "markdown",
   "metadata": {},
   "source": [
    "**by [transposing] a GraphFrame**\n",
    "\n",
    "[transposing]: https://en.wikipedia.org/wiki/Transpose_graph"
   ]
  },
  {
   "cell_type": "code",
   "execution_count": null,
   "metadata": {},
   "outputs": [],
   "source": [
    "graph.flipped()"
   ]
  },
  {
   "cell_type": "markdown",
   "metadata": {},
   "source": [
    "## export graph attributes"
   ]
  },
  {
   "cell_type": "code",
   "execution_count": null,
   "metadata": {},
   "outputs": [],
   "source": [
    "# Access the internal DataFrame directly\n",
    "graph.links"
   ]
  },
  {
   "cell_type": "code",
   "execution_count": null,
   "metadata": {},
   "outputs": [],
   "source": [
    "# links as a SciPy sparse adjacency matrix\n",
    "graph.matrix"
   ]
  },
  {
   "cell_type": "code",
   "execution_count": null,
   "metadata": {},
   "outputs": [],
   "source": [
    "# links as a NumPy adjacency matrix\n",
    "graph.matrix.toarray()"
   ]
  },
  {
   "cell_type": "code",
   "execution_count": null,
   "metadata": {},
   "outputs": [],
   "source": [
    "# list of all distinct nodes\n",
    "graph.nodes"
   ]
  },
  {
   "cell_type": "code",
   "execution_count": null,
   "metadata": {},
   "outputs": [],
   "source": [
    "# Series of weights for each distinct (source, target)\n",
    "graph.weights"
   ]
  },
  {
   "cell_type": "markdown",
   "metadata": {},
   "source": [
    "## iterate over a graph"
   ]
  },
  {
   "cell_type": "code",
   "execution_count": null,
   "metadata": {},
   "outputs": [],
   "source": [
    "# iterate over links (as namedtuples)\n",
    "for link in graph:\n",
    "    print(link)"
   ]
  },
  {
   "cell_type": "code",
   "execution_count": null,
   "metadata": {},
   "outputs": [],
   "source": [
    "# iterate over links (as components)\n",
    "for s,t,w in graph:\n",
    "    print(f\"{s} -> {t} : {w}\")"
   ]
  },
  {
   "cell_type": "code",
   "execution_count": null,
   "metadata": {},
   "outputs": [],
   "source": [
    "# iterate over links without weights\n",
    "for s,t in graph.pairs():\n",
    "    print(f\"{s} -> {t}\")"
   ]
  },
  {
   "cell_type": "code",
   "execution_count": null,
   "metadata": {},
   "outputs": [],
   "source": [
    "# map each source to a list of its targets\n",
    "{x:y for x,y in graph.targets()}"
   ]
  },
  {
   "cell_type": "code",
   "execution_count": null,
   "metadata": {},
   "outputs": [],
   "source": [
    "# map each target to a list of its sources\n",
    "{x:y for x,y in graph.sources()}"
   ]
  },
  {
   "cell_type": "markdown",
   "metadata": {},
   "source": [
    "## calculate coordinates"
   ]
  },
  {
   "cell_type": "code",
   "execution_count": null,
   "metadata": {},
   "outputs": [],
   "source": [
    "graph.coords()"
   ]
  },
  {
   "cell_type": "markdown",
   "metadata": {},
   "source": [
    "## plot coordinates"
   ]
  },
  {
   "cell_type": "code",
   "execution_count": null,
   "metadata": {},
   "outputs": [],
   "source": [
    "graph.plot(color=list('rgb'))"
   ]
  },
  {
   "cell_type": "markdown",
   "metadata": {},
   "source": [
    "## show timesteps"
   ]
  },
  {
   "cell_type": "code",
   "execution_count": null,
   "metadata": {},
   "outputs": [],
   "source": [
    "plotkw = {\n",
    "    'color': list('rgb'),\n",
    "    'figsize': (4,4),\n",
    "    'x': 'x',\n",
    "    'xlim': (-1,1),\n",
    "    'y': 'y',\n",
    "    'ylim': (-1,1)\n",
    "}\n",
    "\n",
    "for t, frame in enumerate(graph(128)):\n",
    "    if not (t % 16):\n",
    "        frame.plot.scatter(**plotkw)"
   ]
  },
  {
   "cell_type": "markdown",
   "metadata": {},
   "source": [
    "## help"
   ]
  },
  {
   "cell_type": "code",
   "execution_count": null,
   "metadata": {},
   "outputs": [],
   "source": [
    "help(GraphFrame)"
   ]
  }
 ],
 "metadata": {
  "kernelspec": {
   "display_name": "Python 3 (ipykernel)",
   "language": "python",
   "name": "python3"
  },
  "language_info": {
   "codemirror_mode": {
    "name": "ipython",
    "version": 3
   },
   "file_extension": ".py",
   "mimetype": "text/x-python",
   "name": "python",
   "nbconvert_exporter": "python",
   "pygments_lexer": "ipython3",
   "version": "3.11.6"
  }
 },
 "nbformat": 4,
 "nbformat_minor": 4
}
