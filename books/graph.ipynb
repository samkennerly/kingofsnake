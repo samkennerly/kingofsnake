{
 "cells": [
  {
   "cell_type": "markdown",
   "metadata": {},
   "source": [
    "# Graph\n",
    "[Draw] graphs using the [ForceAtlas2] energy model. Graphs can be [directed] and/or [weighted].\n",
    "\n",
    "For a visual example, see the [7 Degrees of Martin Brundle].\n",
    "\n",
    "\n",
    "[Draw]: https://en.wikipedia.org/wiki/Graph_drawing\n",
    "[ForceAtlas2]: https://doi.org/10.1371/journal.pone.0098679\n",
    "[directed]: https://en.wikipedia.org/wiki/Directed_graph\n",
    "[weighted]: https://en.wikipedia.org/wiki/Glossary_of_graph_theory#weighted_graph\n",
    "[7 Degrees of Martin Brundle]: https://brundling.neocities.org/"
   ]
  },
  {
   "cell_type": "code",
   "execution_count": 1,
   "metadata": {},
   "outputs": [],
   "source": [
    "from graph import GraphFrame\n",
    "from plot import Plotter"
   ]
  },
  {
   "cell_type": "markdown",
   "metadata": {},
   "source": [
    "## build a GraphFrame\n",
    "GraphFrame can import and export several different graph data structures.\n",
    "\n",
    "Internally, each graph is stored as a DataFrame with 3 columns: `source`, `target`, `weight`.\n",
    "\n",
    "For example, if the node named `a` points to the node named `b` with weight 0.1, that information is stored as the row `('a', 'b', 0.1)`.\n",
    "\n",
    "[directed graph]: https://en.wikipedia.org/wiki/Directed_graph"
   ]
  },
  {
   "cell_type": "markdown",
   "metadata": {},
   "source": [
    "**from triples:** Each link is a (source, target, weight) tuple."
   ]
  },
  {
   "cell_type": "code",
   "execution_count": 2,
   "metadata": {},
   "outputs": [
    {
     "data": {
      "text/plain": [
       "GraphFrame with 5 links\n",
       "  source target  weight\n",
       "0  alice    bob       2\n",
       "1  alice  carol       1\n",
       "2    bob  alice       1\n",
       "3    bob  carol       1\n",
       "4  carol  alice       1"
      ]
     },
     "execution_count": 2,
     "metadata": {},
     "output_type": "execute_result"
    }
   ],
   "source": [
    "triples = (\n",
    "    ('alice', 'bob', 2),\n",
    "    ('alice', 'carol', 1),\n",
    "    ('bob', 'alice', 1),\n",
    "    ('bob', 'carol', 1),\n",
    "    ('carol', 'alice', 1),\n",
    ")\n",
    "graph = GraphFrame(triples)\n",
    "graph"
   ]
  },
  {
   "cell_type": "markdown",
   "metadata": {},
   "source": [
    "**from pairs:** Each link is a (source, target) tuple.\n",
    "\n",
    "Links are weighted by how often they appear."
   ]
  },
  {
   "cell_type": "code",
   "execution_count": 3,
   "metadata": {},
   "outputs": [
    {
     "data": {
      "text/plain": [
       "GraphFrame with 5 links\n",
       "  source target  weight\n",
       "0  alice    bob       2\n",
       "1  alice  carol       1\n",
       "2    bob  alice       1\n",
       "3    bob  carol       1\n",
       "4  carol  alice       1"
      ]
     },
     "execution_count": 3,
     "metadata": {},
     "output_type": "execute_result"
    }
   ],
   "source": [
    "pairs = (\n",
    "    ('alice', 'bob'),\n",
    "    ('alice', 'bob'),\n",
    "    ('alice', 'carol'),\n",
    "    ('bob', 'alice'),\n",
    "    ('bob', 'carol'),\n",
    "    ('carol', 'alice'),\n",
    ")\n",
    "GraphFrame(pairs)"
   ]
  },
  {
   "cell_type": "markdown",
   "metadata": {},
   "source": [
    "**from sources:** Each node is a key. Each value is the list of nodes which point to that key."
   ]
  },
  {
   "cell_type": "code",
   "execution_count": 4,
   "metadata": {},
   "outputs": [
    {
     "data": {
      "text/plain": [
       "GraphFrame with 5 links\n",
       "  source target  weight\n",
       "0  alice    bob       2\n",
       "1  alice  carol       1\n",
       "2    bob  alice       1\n",
       "3    bob  carol       1\n",
       "4  carol  alice       1"
      ]
     },
     "execution_count": 4,
     "metadata": {},
     "output_type": "execute_result"
    }
   ],
   "source": [
    "sources = dict()\n",
    "sources['alice'] = ['bob', 'carol']\n",
    "sources['bob'] = ['alice', 'alice']\n",
    "sources['carol'] = ['alice','bob']\n",
    "GraphFrame.from_sources(sources)"
   ]
  },
  {
   "cell_type": "markdown",
   "metadata": {},
   "source": [
    "**from targets:** Each node is a key. Each value is a list of nodes to which that key points."
   ]
  },
  {
   "cell_type": "code",
   "execution_count": 5,
   "metadata": {},
   "outputs": [
    {
     "data": {
      "text/plain": [
       "GraphFrame with 5 links\n",
       "  source target  weight\n",
       "0  alice    bob       2\n",
       "1  alice  carol       1\n",
       "2    bob  alice       1\n",
       "3    bob  carol       1\n",
       "4  carol  alice       1"
      ]
     },
     "execution_count": 5,
     "metadata": {},
     "output_type": "execute_result"
    }
   ],
   "source": [
    "targets = dict()\n",
    "targets['alice'] = ['bob', 'bob', 'carol']\n",
    "targets['bob'] = ['alice', 'carol']\n",
    "targets['carol'] = ['alice']\n",
    "GraphFrame.from_targets(targets)"
   ]
  },
  {
   "cell_type": "markdown",
   "metadata": {},
   "source": [
    "**by [transposing] a GraphFrame**\n",
    "\n",
    "[transposing]: https://en.wikipedia.org/wiki/Transpose_graph"
   ]
  },
  {
   "cell_type": "code",
   "execution_count": 6,
   "metadata": {},
   "outputs": [
    {
     "data": {
      "text/plain": [
       "GraphFrame with 5 links\n",
       "  source target  weight\n",
       "0  alice    bob       1\n",
       "1  alice  carol       1\n",
       "2    bob  alice       2\n",
       "3  carol  alice       1\n",
       "4  carol    bob       1"
      ]
     },
     "execution_count": 6,
     "metadata": {},
     "output_type": "execute_result"
    }
   ],
   "source": [
    "graph.flipped()"
   ]
  },
  {
   "cell_type": "markdown",
   "metadata": {},
   "source": [
    "## export graph attributes"
   ]
  },
  {
   "cell_type": "code",
   "execution_count": 7,
   "metadata": {},
   "outputs": [
    {
     "data": {
      "text/html": [
       "<div>\n",
       "<style scoped>\n",
       "    .dataframe tbody tr th:only-of-type {\n",
       "        vertical-align: middle;\n",
       "    }\n",
       "\n",
       "    .dataframe tbody tr th {\n",
       "        vertical-align: top;\n",
       "    }\n",
       "\n",
       "    .dataframe thead th {\n",
       "        text-align: right;\n",
       "    }\n",
       "</style>\n",
       "<table border=\"1\" class=\"dataframe\">\n",
       "  <thead>\n",
       "    <tr style=\"text-align: right;\">\n",
       "      <th></th>\n",
       "      <th>source</th>\n",
       "      <th>target</th>\n",
       "      <th>weight</th>\n",
       "    </tr>\n",
       "  </thead>\n",
       "  <tbody>\n",
       "    <tr>\n",
       "      <th>0</th>\n",
       "      <td>alice</td>\n",
       "      <td>bob</td>\n",
       "      <td>2</td>\n",
       "    </tr>\n",
       "    <tr>\n",
       "      <th>1</th>\n",
       "      <td>alice</td>\n",
       "      <td>carol</td>\n",
       "      <td>1</td>\n",
       "    </tr>\n",
       "    <tr>\n",
       "      <th>2</th>\n",
       "      <td>bob</td>\n",
       "      <td>alice</td>\n",
       "      <td>1</td>\n",
       "    </tr>\n",
       "    <tr>\n",
       "      <th>3</th>\n",
       "      <td>bob</td>\n",
       "      <td>carol</td>\n",
       "      <td>1</td>\n",
       "    </tr>\n",
       "    <tr>\n",
       "      <th>4</th>\n",
       "      <td>carol</td>\n",
       "      <td>alice</td>\n",
       "      <td>1</td>\n",
       "    </tr>\n",
       "  </tbody>\n",
       "</table>\n",
       "</div>"
      ],
      "text/plain": [
       "  source target  weight\n",
       "0  alice    bob       2\n",
       "1  alice  carol       1\n",
       "2    bob  alice       1\n",
       "3    bob  carol       1\n",
       "4  carol  alice       1"
      ]
     },
     "execution_count": 7,
     "metadata": {},
     "output_type": "execute_result"
    }
   ],
   "source": [
    "# Access the internal DataFrame directly\n",
    "graph.links"
   ]
  },
  {
   "cell_type": "code",
   "execution_count": 8,
   "metadata": {},
   "outputs": [
    {
     "data": {
      "text/plain": [
       "<3x3 sparse matrix of type '<class 'numpy.int64'>'\n",
       "\twith 5 stored elements in Compressed Sparse Row format>"
      ]
     },
     "execution_count": 8,
     "metadata": {},
     "output_type": "execute_result"
    }
   ],
   "source": [
    "# links as a SciPy sparse adjacency matrix\n",
    "graph.matrix"
   ]
  },
  {
   "cell_type": "code",
   "execution_count": 9,
   "metadata": {},
   "outputs": [
    {
     "data": {
      "text/plain": [
       "array([[0, 2, 1],\n",
       "       [1, 0, 1],\n",
       "       [1, 0, 0]])"
      ]
     },
     "execution_count": 9,
     "metadata": {},
     "output_type": "execute_result"
    }
   ],
   "source": [
    "# links as a NumPy adjacency matrix\n",
    "graph.matrix.toarray()"
   ]
  },
  {
   "cell_type": "code",
   "execution_count": 10,
   "metadata": {},
   "outputs": [
    {
     "data": {
      "text/plain": [
       "['alice', 'bob', 'carol']"
      ]
     },
     "execution_count": 10,
     "metadata": {},
     "output_type": "execute_result"
    }
   ],
   "source": [
    "# list of all distinct nodes\n",
    "graph.nodes"
   ]
  },
  {
   "cell_type": "code",
   "execution_count": 11,
   "metadata": {},
   "outputs": [
    {
     "data": {
      "text/plain": [
       "source  target\n",
       "alice   bob       2\n",
       "        carol     1\n",
       "bob     alice     1\n",
       "        carol     1\n",
       "carol   alice     1\n",
       "Name: weight, dtype: int64"
      ]
     },
     "execution_count": 11,
     "metadata": {},
     "output_type": "execute_result"
    }
   ],
   "source": [
    "# Series of weights for each distinct (source, target)\n",
    "graph.weights"
   ]
  },
  {
   "cell_type": "markdown",
   "metadata": {},
   "source": [
    "## iterate over a graph"
   ]
  },
  {
   "cell_type": "code",
   "execution_count": 12,
   "metadata": {},
   "outputs": [
    {
     "name": "stdout",
     "output_type": "stream",
     "text": [
      "Link(source='alice', target='bob', weight=2)\n",
      "Link(source='alice', target='carol', weight=1)\n",
      "Link(source='bob', target='alice', weight=1)\n",
      "Link(source='bob', target='carol', weight=1)\n",
      "Link(source='carol', target='alice', weight=1)\n"
     ]
    }
   ],
   "source": [
    "# iterate over links (as namedtuples)\n",
    "for link in graph:\n",
    "    print(link)"
   ]
  },
  {
   "cell_type": "code",
   "execution_count": 13,
   "metadata": {},
   "outputs": [
    {
     "name": "stdout",
     "output_type": "stream",
     "text": [
      "alice -> bob : 2\n",
      "alice -> carol : 1\n",
      "bob -> alice : 1\n",
      "bob -> carol : 1\n",
      "carol -> alice : 1\n"
     ]
    }
   ],
   "source": [
    "# iterate over links (as components)\n",
    "for s,t,w in graph:\n",
    "    print(f\"{s} -> {t} : {w}\")"
   ]
  },
  {
   "cell_type": "code",
   "execution_count": 14,
   "metadata": {},
   "outputs": [
    {
     "name": "stdout",
     "output_type": "stream",
     "text": [
      "alice -> bob\n",
      "alice -> carol\n",
      "bob -> alice\n",
      "bob -> carol\n",
      "carol -> alice\n"
     ]
    }
   ],
   "source": [
    "# iterate over links without weights\n",
    "for s,t in graph.pairs():\n",
    "    print(f\"{s} -> {t}\")"
   ]
  },
  {
   "cell_type": "code",
   "execution_count": 15,
   "metadata": {},
   "outputs": [
    {
     "data": {
      "text/plain": [
       "{'alice': ['bob', 'carol'], 'bob': ['alice', 'carol'], 'carol': ['alice']}"
      ]
     },
     "execution_count": 15,
     "metadata": {},
     "output_type": "execute_result"
    }
   ],
   "source": [
    "# map each source to a list of its targets\n",
    "{x:y for x,y in graph.targets()}"
   ]
  },
  {
   "cell_type": "code",
   "execution_count": 16,
   "metadata": {},
   "outputs": [
    {
     "data": {
      "text/plain": [
       "{'alice': ['bob', 'carol'], 'bob': ['alice'], 'carol': ['alice', 'bob']}"
      ]
     },
     "execution_count": 16,
     "metadata": {},
     "output_type": "execute_result"
    }
   ],
   "source": [
    "# map each target to a list of its sources\n",
    "{x:y for x,y in graph.sources()}"
   ]
  },
  {
   "cell_type": "code",
   "execution_count": null,
   "metadata": {},
   "outputs": [],
   "source": []
  },
  {
   "cell_type": "markdown",
   "metadata": {},
   "source": [
    "# UNDER CONSTRUCTION"
   ]
  },
  {
   "cell_type": "markdown",
   "metadata": {},
   "source": [
    "## calculate layout"
   ]
  },
  {
   "cell_type": "code",
   "execution_count": 17,
   "metadata": {},
   "outputs": [],
   "source": [
    "show = Plotter()\n",
    "show.params[\"figure\"][\"figsize\"] = (4,4)"
   ]
  },
  {
   "cell_type": "code",
   "execution_count": 18,
   "metadata": {},
   "outputs": [
    {
     "data": {
      "text/html": [
       "<div>\n",
       "<style scoped>\n",
       "    .dataframe tbody tr th:only-of-type {\n",
       "        vertical-align: middle;\n",
       "    }\n",
       "\n",
       "    .dataframe tbody tr th {\n",
       "        vertical-align: top;\n",
       "    }\n",
       "\n",
       "    .dataframe thead th {\n",
       "        text-align: right;\n",
       "    }\n",
       "</style>\n",
       "<table border=\"1\" class=\"dataframe\">\n",
       "  <thead>\n",
       "    <tr style=\"text-align: right;\">\n",
       "      <th></th>\n",
       "      <th>x</th>\n",
       "      <th>y</th>\n",
       "    </tr>\n",
       "  </thead>\n",
       "  <tbody>\n",
       "    <tr>\n",
       "      <th>alice</th>\n",
       "      <td>-0.164288</td>\n",
       "      <td>-0.122668</td>\n",
       "    </tr>\n",
       "    <tr>\n",
       "      <th>bob</th>\n",
       "      <td>0.360995</td>\n",
       "      <td>-0.116188</td>\n",
       "    </tr>\n",
       "    <tr>\n",
       "      <th>carol</th>\n",
       "      <td>-0.071318</td>\n",
       "      <td>0.538748</td>\n",
       "    </tr>\n",
       "  </tbody>\n",
       "</table>\n",
       "</div>"
      ],
      "text/plain": [
       "              x         y\n",
       "alice -0.164288 -0.122668\n",
       "bob    0.360995 -0.116188\n",
       "carol -0.071318  0.538748"
      ]
     },
     "execution_count": 18,
     "metadata": {},
     "output_type": "execute_result"
    }
   ],
   "source": [
    "graph.layout(100)"
   ]
  },
  {
   "cell_type": "code",
   "execution_count": 19,
   "metadata": {},
   "outputs": [
    {
     "data": {
      "text/plain": [
       "<Axes: >"
      ]
     },
     "execution_count": 19,
     "metadata": {},
     "output_type": "execute_result"
    },
    {
     "data": {
      "image/png": "[encoded data removed]",
      "text/plain": [
       "<Figure size 400x400 with 1 Axes>"
      ]
     },
     "metadata": {},
     "output_type": "display_data"
    }
   ],
   "source": [
    "points = graph.layout()\n",
    "points['color'] = list('ryg')\n",
    "show.scatter(points)"
   ]
  },
  {
   "cell_type": "markdown",
   "metadata": {},
   "source": [
    "## show layout steps"
   ]
  },
  {
   "cell_type": "code",
   "execution_count": 20,
   "metadata": {},
   "outputs": [
    {
     "data": {
      "text/html": [
       "<div>\n",
       "<style scoped>\n",
       "    .dataframe tbody tr th:only-of-type {\n",
       "        vertical-align: middle;\n",
       "    }\n",
       "\n",
       "    .dataframe tbody tr th {\n",
       "        vertical-align: top;\n",
       "    }\n",
       "\n",
       "    .dataframe thead th {\n",
       "        text-align: right;\n",
       "    }\n",
       "</style>\n",
       "<table border=\"1\" class=\"dataframe\">\n",
       "  <thead>\n",
       "    <tr style=\"text-align: right;\">\n",
       "      <th></th>\n",
       "      <th>x</th>\n",
       "      <th>y</th>\n",
       "      <th>color</th>\n",
       "    </tr>\n",
       "  </thead>\n",
       "  <tbody>\n",
       "    <tr>\n",
       "      <th>alice</th>\n",
       "      <td>0</td>\n",
       "      <td>0</td>\n",
       "      <td>r</td>\n",
       "    </tr>\n",
       "    <tr>\n",
       "      <th>bob</th>\n",
       "      <td>0</td>\n",
       "      <td>0</td>\n",
       "      <td>y</td>\n",
       "    </tr>\n",
       "    <tr>\n",
       "      <th>carol</th>\n",
       "      <td>0</td>\n",
       "      <td>0</td>\n",
       "      <td>g</td>\n",
       "    </tr>\n",
       "  </tbody>\n",
       "</table>\n",
       "</div>"
      ],
      "text/plain": [
       "       x  y color\n",
       "alice  0  0     r\n",
       "bob    0  0     y\n",
       "carol  0  0     g"
      ]
     },
     "execution_count": 20,
     "metadata": {},
     "output_type": "execute_result"
    }
   ],
   "source": [
    "from pandas import DataFrame\n",
    "\n",
    "data = DataFrame(index=graph.nodes)\n",
    "data['x'] = data['y'] = 0\n",
    "data['color'] = list('ryg')\n",
    "data"
   ]
  },
  {
   "cell_type": "code",
   "execution_count": 21,
   "metadata": {},
   "outputs": [
    {
     "data": {
      "image/png": "[encoded data removed]",
      "text/plain": [
       "<Figure size 400x400 with 1 Axes>"
      ]
     },
     "metadata": {},
     "output_type": "display_data"
    },
    {
     "data": {
      "image/png": "[encoded data removed]",
      "text/plain": [
       "<Figure size 400x400 with 1 Axes>"
      ]
     },
     "metadata": {},
     "output_type": "display_data"
    },
    {
     "data": {
      "image/png": "[encoded data removed]",
      "text/plain": [
       "<Figure size 400x400 with 1 Axes>"
      ]
     },
     "metadata": {},
     "output_type": "display_data"
    },
    {
     "data": {
      "image/png": "[encoded data removed]",
      "text/plain": [
       "<Figure size 400x400 with 1 Axes>"
      ]
     },
     "metadata": {},
     "output_type": "display_data"
    },
    {
     "data": {
      "image/png": "[encoded data removed]",
      "text/plain": [
       "<Figure size 400x400 with 1 Axes>"
      ]
     },
     "metadata": {},
     "output_type": "display_data"
    }
   ],
   "source": [
    "points = enumerate(graph(100))\n",
    "points = ( z for i, z in points if not i % 20 )\n",
    "for x, y in points:\n",
    "    data['x'] = x\n",
    "    data['y'] = y\n",
    "    axes = show.scatter(data, xlim=(-1, 1), ylim=(-1, 1))"
   ]
  },
  {
   "cell_type": "markdown",
   "metadata": {},
   "source": [
    "## help"
   ]
  },
  {
   "cell_type": "code",
   "execution_count": 22,
   "metadata": {},
   "outputs": [
    {
     "name": "stdout",
     "output_type": "stream",
     "text": [
      "Help on class GraphFrame in module graph:\n",
      "\n",
      "class GraphFrame(builtins.object)\n",
      " |  GraphFrame(links)\n",
      " |  \n",
      " |  Store graph data and calculate coordinates for drawing that graph.\n",
      " |  Uses drawing physics based on based on Gephi's ForceAtlas2 energy model.\n",
      " |  \n",
      " |  Inputs:\n",
      " |      DataFrame with [source, target] as first 2 columns, OR\n",
      " |      DataFrame with [source, target, weight] as first 3 columns, OR\n",
      " |      anything accepted by pandas.DataFrame() constructor\n",
      " |  \n",
      " |  If no weight is provided, links are weighted by how often they appear.\n",
      " |  \n",
      " |  Call with a number of timesteps to return two NumPy arrays (x, y).\n",
      " |  Call accepts optional starting coordinates as 'x', 'y' keyword arguments.\n",
      " |  Coordinates are typically, but not always, in the range [-1, 1].\n",
      " |  \n",
      " |  Methods defined here:\n",
      " |  \n",
      " |  __call__(self, nsteps, x=(), y=())\n",
      " |      Call self as a function.\n",
      " |  \n",
      " |  __init__(self, links)\n",
      " |      Initialize self.  See help(type(self)) for accurate signature.\n",
      " |  \n",
      " |  __iter__(self)\n",
      " |  \n",
      " |  __len__(self)\n",
      " |  \n",
      " |  __repr__(self)\n",
      " |      Return repr(self).\n",
      " |  \n",
      " |  flipped(self)\n",
      " |      GraphFrame: New graph with all links reversed.\n",
      " |  \n",
      " |  layout(self, t=120)\n",
      " |      DataFrame: (x,y) coordinates of each node after t timesteps.\n",
      " |  \n",
      " |  pairs(self)\n",
      " |      list of lists: [source, target] pairs without weights.\n",
      " |  \n",
      " |  sources(self)\n",
      " |      dict of lists: Sources for each target in graph.\n",
      " |  \n",
      " |  targets(self)\n",
      " |      dict of lists: Targets for each source in graph.\n",
      " |  \n",
      " |  ----------------------------------------------------------------------\n",
      " |  Class methods defined here:\n",
      " |  \n",
      " |  from_sources(sources) from builtins.type\n",
      " |  \n",
      " |  from_targets(targets) from builtins.type\n",
      " |  \n",
      " |  ----------------------------------------------------------------------\n",
      " |  Readonly properties defined here:\n",
      " |  \n",
      " |  matrix\n",
      " |      scipy.sparse.coo: Sparse adjacency matrix.\n",
      " |  \n",
      " |  nodes\n",
      " |      list: Sorted union of sources and targets.\n",
      " |  \n",
      " |  weights\n",
      " |      Series: Weight of each (source, target) pair.\n",
      " |  \n",
      " |  ----------------------------------------------------------------------\n",
      " |  Data descriptors defined here:\n",
      " |  \n",
      " |  __dict__\n",
      " |      dictionary for instance variables (if defined)\n",
      " |  \n",
      " |  __weakref__\n",
      " |      list of weak references to the object (if defined)\n",
      "\n"
     ]
    }
   ],
   "source": [
    "help(GraphFrame)"
   ]
  },
  {
   "cell_type": "code",
   "execution_count": null,
   "metadata": {},
   "outputs": [],
   "source": []
  }
 ],
 "metadata": {
  "kernelspec": {
   "display_name": "Python 3 (ipykernel)",
   "language": "python",
   "name": "python3"
  },
  "language_info": {
   "codemirror_mode": {
    "name": "ipython",
    "version": 3
   },
   "file_extension": ".py",
   "mimetype": "text/x-python",
   "name": "python",
   "nbconvert_exporter": "python",
   "pygments_lexer": "ipython3",
   "version": "3.11.6"
  }
 },
 "nbformat": 4,
 "nbformat_minor": 4
}
