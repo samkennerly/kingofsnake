{
 "cells": [
  {
   "cell_type": "code",
   "execution_count": 1,
   "metadata": {},
   "outputs": [
    {
     "data": {
      "application/javascript": [
       "IPython.notebook.set_autosave_interval(0)"
      ]
     },
     "metadata": {},
     "output_type": "display_data"
    },
    {
     "name": "stdout",
     "output_type": "stream",
     "text": [
      "Autosave disabled\n"
     ]
    }
   ],
   "source": [
    "%load_ext autoreload\n",
    "%autoreload 2\n",
    "%autosave 0"
   ]
  },
  {
   "cell_type": "code",
   "execution_count": 2,
   "metadata": {},
   "outputs": [],
   "source": [
    "from etl.ergastf1 import *"
   ]
  },
  {
   "cell_type": "code",
   "execution_count": 3,
   "metadata": {},
   "outputs": [],
   "source": [
    "FOLDER = '/context/data/ergastf1/api'"
   ]
  },
  {
   "cell_type": "code",
   "execution_count": 4,
   "metadata": {},
   "outputs": [
    {
     "name": "stdout",
     "output_type": "stream",
     "text": [
      "ErgastF1(folder=/context/data/ergastf1/api, retries=4, timeout=1.0)\n"
     ]
    }
   ],
   "source": [
    "self = ErgastF1(FOLDER)\n",
    "print(self)"
   ]
  },
  {
   "cell_type": "code",
   "execution_count": 5,
   "metadata": {},
   "outputs": [],
   "source": [
    "def take5(rows):\n",
    "    return [ x for _,x in zip(range(5), rows) ]"
   ]
  },
  {
   "cell_type": "code",
   "execution_count": 6,
   "metadata": {},
   "outputs": [
    {
     "data": {
      "text/plain": [
       "[1950, 1951, 1952, 1953, 1954]"
      ]
     },
     "execution_count": 6,
     "metadata": {},
     "output_type": "execute_result"
    }
   ],
   "source": [
    "take5(self.years())"
   ]
  },
  {
   "cell_type": "code",
   "execution_count": 7,
   "metadata": {},
   "outputs": [
    {
     "data": {
      "text/plain": [
       "[Circuit(circuitId='adelaide', circuitName='Adelaide Street Circuit', country='Australia', lat='-34.9272', long='138.617', locality='Adelaide', url='http://en.wikipedia.org/wiki/Adelaide_Street_Circuit'),\n",
       " Circuit(circuitId='ain-diab', circuitName='Ain Diab', country='Morocco', lat='33.5786', long='-7.6875', locality='Casablanca', url='http://en.wikipedia.org/wiki/Ain-Diab_Circuit'),\n",
       " Circuit(circuitId='aintree', circuitName='Aintree', country='UK', lat='53.4769', long='-2.94056', locality='Liverpool', url='http://en.wikipedia.org/wiki/Aintree_Motor_Racing_Circuit'),\n",
       " Circuit(circuitId='albert_park', circuitName='Albert Park Grand Prix Circuit', country='Australia', lat='-37.8497', long='144.968', locality='Melbourne', url='http://en.wikipedia.org/wiki/Melbourne_Grand_Prix_Circuit'),\n",
       " Circuit(circuitId='americas', circuitName='Circuit of the Americas', country='USA', lat='30.1328', long='-97.6411', locality='Austin', url='http://en.wikipedia.org/wiki/Circuit_of_the_Americas')]"
      ]
     },
     "execution_count": 7,
     "metadata": {},
     "output_type": "execute_result"
    }
   ],
   "source": [
    "take5(self.circuits())"
   ]
  },
  {
   "cell_type": "code",
   "execution_count": 8,
   "metadata": {
    "scrolled": false
   },
   "outputs": [
    {
     "data": {
      "text/plain": [
       "[Constructor(constructorId='adams', name='Adams', nationality='American', url='http://en.wikipedia.org/wiki/Adams_(constructor)'),\n",
       " Constructor(constructorId='afm', name='AFM', nationality='German', url='http://en.wikipedia.org/wiki/Alex_von_Falkenhausen_Motorenbau'),\n",
       " Constructor(constructorId='ags', name='AGS', nationality='French', url='http://en.wikipedia.org/wiki/Automobiles_Gonfaronnaises_Sportives'),\n",
       " Constructor(constructorId='alfa', name='Alfa Romeo', nationality='Italian', url='http://en.wikipedia.org/wiki/Alfa_Romeo_in_Formula_One'),\n",
       " Constructor(constructorId='alta', name='Alta', nationality='British', url='http://en.wikipedia.org/wiki/Alta_auto_racing_team')]"
      ]
     },
     "execution_count": 8,
     "metadata": {},
     "output_type": "execute_result"
    }
   ],
   "source": [
    "take5(self.constructors())"
   ]
  },
  {
   "cell_type": "code",
   "execution_count": 9,
   "metadata": {
    "scrolled": false
   },
   "outputs": [
    {
     "data": {
      "text/plain": [
       "[Driver(driverId='abate', code=None, dateOfBirth='1932-07-10', familyName='Abate', givenName='Carlo', nationality='Italian', permanentNumber=None, url='http://en.wikipedia.org/wiki/Carlo_Mario_Abate'),\n",
       " Driver(driverId='abecassis', code=None, dateOfBirth='1913-03-21', familyName='Abecassis', givenName='George', nationality='British', permanentNumber=None, url='http://en.wikipedia.org/wiki/George_Abecassis'),\n",
       " Driver(driverId='acheson', code=None, dateOfBirth='1957-11-27', familyName='Acheson', givenName='Kenny', nationality='British', permanentNumber=None, url='http://en.wikipedia.org/wiki/Kenny_Acheson'),\n",
       " Driver(driverId='adams', code=None, dateOfBirth='1969-11-19', familyName='Adams', givenName='Philippe', nationality='Belgian', permanentNumber=None, url='http://en.wikipedia.org/wiki/Philippe_Adams'),\n",
       " Driver(driverId='ader', code=None, dateOfBirth='1913-12-15', familyName='Ader', givenName='Walt', nationality='American', permanentNumber=None, url='http://en.wikipedia.org/wiki/Walt_Ader')]"
      ]
     },
     "execution_count": 9,
     "metadata": {},
     "output_type": "execute_result"
    }
   ],
   "source": [
    "take5(self.drivers())"
   ]
  },
  {
   "cell_type": "code",
   "execution_count": 10,
   "metadata": {
    "scrolled": false
   },
   "outputs": [
    {
     "data": {
      "text/plain": [
       "[Race(circuitId='albert_park', date='2019-03-17', raceName='Australian Grand Prix', round='1', season='2019', time='05:10:00Z', url='https://en.wikipedia.org/wiki/2019_Australian_Grand_Prix'),\n",
       " Race(circuitId='bahrain', date='2019-03-31', raceName='Bahrain Grand Prix', round='2', season='2019', time='15:10:00Z', url='https://en.wikipedia.org/wiki/2019_Bahrain_Grand_Prix'),\n",
       " Race(circuitId='shanghai', date='2019-04-14', raceName='Chinese Grand Prix', round='3', season='2019', time='06:10:00Z', url='https://en.wikipedia.org/wiki/2019_Chinese_Grand_Prix'),\n",
       " Race(circuitId='BAK', date='2019-04-28', raceName='Azerbaijan Grand Prix', round='4', season='2019', time='12:10:00Z', url='https://en.wikipedia.org/wiki/2019_Azerbaijan_Grand_Prix'),\n",
       " Race(circuitId='catalunya', date='2019-05-12', raceName='Spanish Grand Prix', round='5', season='2019', time='13:10:00Z', url='https://en.wikipedia.org/wiki/2019_Spanish_Grand_Prix')]"
      ]
     },
     "execution_count": 10,
     "metadata": {},
     "output_type": "execute_result"
    }
   ],
   "source": [
    "take5(self.races())"
   ]
  },
  {
   "cell_type": "code",
   "execution_count": null,
   "metadata": {},
   "outputs": [],
   "source": []
  },
  {
   "cell_type": "code",
   "execution_count": null,
   "metadata": {},
   "outputs": [],
   "source": []
  },
  {
   "cell_type": "code",
   "execution_count": null,
   "metadata": {},
   "outputs": [],
   "source": []
  },
  {
   "cell_type": "code",
   "execution_count": null,
   "metadata": {},
   "outputs": [],
   "source": []
  },
  {
   "cell_type": "code",
   "execution_count": null,
   "metadata": {},
   "outputs": [],
   "source": []
  },
  {
   "cell_type": "code",
   "execution_count": null,
   "metadata": {},
   "outputs": [],
   "source": []
  },
  {
   "cell_type": "code",
   "execution_count": null,
   "metadata": {},
   "outputs": [],
   "source": []
  },
  {
   "cell_type": "code",
   "execution_count": null,
   "metadata": {},
   "outputs": [],
   "source": []
  },
  {
   "cell_type": "code",
   "execution_count": null,
   "metadata": {},
   "outputs": [],
   "source": []
  },
  {
   "cell_type": "code",
   "execution_count": null,
   "metadata": {},
   "outputs": [],
   "source": []
  },
  {
   "cell_type": "code",
   "execution_count": null,
   "metadata": {},
   "outputs": [],
   "source": []
  },
  {
   "cell_type": "code",
   "execution_count": null,
   "metadata": {},
   "outputs": [],
   "source": []
  },
  {
   "cell_type": "code",
   "execution_count": null,
   "metadata": {},
   "outputs": [],
   "source": []
  },
  {
   "cell_type": "code",
   "execution_count": null,
   "metadata": {},
   "outputs": [],
   "source": []
  },
  {
   "cell_type": "code",
   "execution_count": null,
   "metadata": {},
   "outputs": [],
   "source": []
  }
 ],
 "metadata": {
  "kernelspec": {
   "display_name": "Python 3",
   "language": "python",
   "name": "python3"
  },
  "language_info": {
   "codemirror_mode": {
    "name": "ipython",
    "version": 3
   },
   "file_extension": ".py",
   "mimetype": "text/x-python",
   "name": "python",
   "nbconvert_exporter": "python",
   "pygments_lexer": "ipython3",
   "version": "3.7.5"
  }
 },
 "nbformat": 4,
 "nbformat_minor": 2
}
