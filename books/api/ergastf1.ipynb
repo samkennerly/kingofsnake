{
 "cells": [
  {
   "cell_type": "markdown",
   "metadata": {},
   "source": [
    "# ErgastF1\n",
    "\n",
    "Get Formula 1 data from https://ergast.com/mrd/"
   ]
  },
  {
   "cell_type": "code",
   "execution_count": 1,
   "metadata": {},
   "outputs": [
    {
     "data": {
      "application/javascript": [
       "IPython.notebook.set_autosave_interval(0)"
      ]
     },
     "metadata": {},
     "output_type": "display_data"
    },
    {
     "name": "stdout",
     "output_type": "stream",
     "text": [
      "Autosave disabled\n"
     ]
    }
   ],
   "source": [
    "%load_ext autoreload\n",
    "%autoreload 2\n",
    "%autosave 0"
   ]
  },
  {
   "cell_type": "code",
   "execution_count": 2,
   "metadata": {},
   "outputs": [],
   "source": [
    "from api.ergastf1 import ErgastF1\n",
    "FOLDER = '/context/data/api/ergastf1'"
   ]
  },
  {
   "cell_type": "markdown",
   "metadata": {},
   "source": [
    "## create an `ErgastF1`"
   ]
  },
  {
   "cell_type": "code",
   "execution_count": 3,
   "metadata": {},
   "outputs": [
    {
     "data": {
      "text/plain": [
       "ErgastF1(folder=None, limit=100, retries=4, timeout=1.0)"
      ]
     },
     "execution_count": 3,
     "metadata": {},
     "output_type": "execute_result"
    }
   ],
   "source": [
    "ErgastF1()"
   ]
  },
  {
   "cell_type": "markdown",
   "metadata": {},
   "source": [
    "## call to generate pages\n",
    "Some queries return multiple pages.\n",
    "Set a `limit` if you want small pages."
   ]
  },
  {
   "cell_type": "code",
   "execution_count": 4,
   "metadata": {},
   "outputs": [
    {
     "name": "stdout",
     "output_type": "stream",
     "text": [
      "<generator object ErgastF1.batches at 0x7fcdc46875d0>\n"
     ]
    }
   ],
   "source": [
    "api = ErgastF1(limit=5)\n",
    "pages = api('drivers')\n",
    "print(pages)"
   ]
  },
  {
   "cell_type": "code",
   "execution_count": 5,
   "metadata": {},
   "outputs": [
    {
     "name": "stdout",
     "output_type": "stream",
     "text": [
      "GET https://ergast.com/api/f1/drivers.json?limit=5&offset=0\n"
     ]
    },
    {
     "data": {
      "text/plain": [
       "{'MRData': {'xmlns': 'http://ergast.com/mrd/1.4',\n",
       "  'series': 'f1',\n",
       "  'url': 'http://ergast.com/api/f1/drivers.json',\n",
       "  'limit': '5',\n",
       "  'offset': '0',\n",
       "  'total': '847',\n",
       "  'DriverTable': {'Drivers': [{'driverId': 'abate',\n",
       "     'url': 'http://en.wikipedia.org/wiki/Carlo_Mario_Abate',\n",
       "     'givenName': 'Carlo',\n",
       "     'familyName': 'Abate',\n",
       "     'dateOfBirth': '1932-07-10',\n",
       "     'nationality': 'Italian'},\n",
       "    {'driverId': 'abecassis',\n",
       "     'url': 'http://en.wikipedia.org/wiki/George_Abecassis',\n",
       "     'givenName': 'George',\n",
       "     'familyName': 'Abecassis',\n",
       "     'dateOfBirth': '1913-03-21',\n",
       "     'nationality': 'British'},\n",
       "    {'driverId': 'acheson',\n",
       "     'url': 'http://en.wikipedia.org/wiki/Kenny_Acheson',\n",
       "     'givenName': 'Kenny',\n",
       "     'familyName': 'Acheson',\n",
       "     'dateOfBirth': '1957-11-27',\n",
       "     'nationality': 'British'},\n",
       "    {'driverId': 'adams',\n",
       "     'url': 'http://en.wikipedia.org/wiki/Philippe_Adams',\n",
       "     'givenName': 'Philippe',\n",
       "     'familyName': 'Adams',\n",
       "     'dateOfBirth': '1969-11-19',\n",
       "     'nationality': 'Belgian'},\n",
       "    {'driverId': 'ader',\n",
       "     'url': 'http://en.wikipedia.org/wiki/Walt_Ader',\n",
       "     'givenName': 'Walt',\n",
       "     'familyName': 'Ader',\n",
       "     'dateOfBirth': '1913-12-15',\n",
       "     'nationality': 'American'}]}}}"
      ]
     },
     "execution_count": 5,
     "metadata": {},
     "output_type": "execute_result"
    }
   ],
   "source": [
    "next(pages)"
   ]
  },
  {
   "cell_type": "markdown",
   "metadata": {},
   "source": [
    "## automatic cache\n",
    "Input a cache `folder`.\n",
    "Repeating the same query will return cached pages.\n",
    "\n",
    "Caches do *not* expire. Delete the folder to clear the cache."
   ]
  },
  {
   "cell_type": "code",
   "execution_count": 6,
   "metadata": {},
   "outputs": [
    {
     "data": {
      "text/plain": [
       "ErgastF1(folder=/context/data/api/ergastf1, limit=100, retries=4, timeout=1.0)"
      ]
     },
     "execution_count": 6,
     "metadata": {},
     "output_type": "execute_result"
    }
   ],
   "source": [
    "api = ErgastF1(FOLDER)\n",
    "api"
   ]
  },
  {
   "cell_type": "code",
   "execution_count": 7,
   "metadata": {},
   "outputs": [
    {
     "name": "stdout",
     "output_type": "stream",
     "text": [
      "mkdir /context/data/api/ergastf1/2019/6\n",
      "GET https://ergast.com/api/f1/2019/6.json?limit=100&offset=0\n",
      "save /context/data/api/ergastf1/2019/6/0.json\n"
     ]
    },
    {
     "data": {
      "text/plain": [
       "[{'MRData': {'xmlns': 'http://ergast.com/mrd/1.4',\n",
       "   'series': 'f1',\n",
       "   'url': 'http://ergast.com/api/f1/2019/6.json',\n",
       "   'limit': '100',\n",
       "   'offset': '0',\n",
       "   'total': '1',\n",
       "   'RaceTable': {'season': '2019',\n",
       "    'round': '6',\n",
       "    'Races': [{'season': '2019',\n",
       "      'round': '6',\n",
       "      'url': 'https://en.wikipedia.org/wiki/2019_Monaco_Grand_Prix',\n",
       "      'raceName': 'Monaco Grand Prix',\n",
       "      'Circuit': {'circuitId': 'monaco',\n",
       "       'url': 'http://en.wikipedia.org/wiki/Circuit_de_Monaco',\n",
       "       'circuitName': 'Circuit de Monaco',\n",
       "       'Location': {'lat': '43.7347',\n",
       "        'long': '7.42056',\n",
       "        'locality': 'Monte-Carlo',\n",
       "        'country': 'Monaco'}},\n",
       "      'date': '2019-05-26',\n",
       "      'time': '13:10:00Z'}]}}}]"
      ]
     },
     "execution_count": 7,
     "metadata": {},
     "output_type": "execute_result"
    }
   ],
   "source": [
    "race = list(api(2019,6))\n",
    "race"
   ]
  },
  {
   "cell_type": "code",
   "execution_count": 8,
   "metadata": {},
   "outputs": [
    {
     "data": {
      "text/plain": [
       "True"
      ]
     },
     "execution_count": 8,
     "metadata": {},
     "output_type": "execute_result"
    }
   ],
   "source": [
    "race1 = list(api(2019,6))\n",
    "race1 == race"
   ]
  },
  {
   "cell_type": "markdown",
   "metadata": {},
   "source": [
    "## tables\n",
    "Some common queries are available as lists of namedtuples."
   ]
  },
  {
   "cell_type": "code",
   "execution_count": 9,
   "metadata": {},
   "outputs": [],
   "source": [
    "def show(table):\n",
    "    print(f\"{len(table)} rows\")\n",
    "    print(table[0]._fields)\n",
    "    return table[-2:]"
   ]
  },
  {
   "cell_type": "code",
   "execution_count": 10,
   "metadata": {},
   "outputs": [
    {
     "name": "stdout",
     "output_type": "stream",
     "text": [
      "mkdir /context/data/api/ergastf1/circuits\n",
      "GET https://ergast.com/api/f1/circuits.json?limit=100&offset=0\n",
      "save /context/data/api/ergastf1/circuits/0.json\n",
      "74 rows\n",
      "('circuitId', 'circuitName', 'country', 'lat', 'long', 'locality', 'url')\n"
     ]
    },
    {
     "data": {
      "text/plain": [
       "[Circuit(circuitId='zeltweg', circuitName='Zeltweg', country='Austria', lat='47.2039', long='14.7478', locality='Styria', url='http://en.wikipedia.org/wiki/Zeltweg_Airfield'),\n",
       " Circuit(circuitId='zolder', circuitName='Zolder', country='Belgium', lat='50.9894', long='5.25694', locality='Heusden-Zolder', url='http://en.wikipedia.org/wiki/Zolder')]"
      ]
     },
     "execution_count": 10,
     "metadata": {},
     "output_type": "execute_result"
    }
   ],
   "source": [
    "show(api.circuits)"
   ]
  },
  {
   "cell_type": "code",
   "execution_count": 11,
   "metadata": {},
   "outputs": [
    {
     "name": "stdout",
     "output_type": "stream",
     "text": [
      "mkdir /context/data/api/ergastf1/constructors\n",
      "GET https://ergast.com/api/f1/constructors.json?limit=100&offset=0\n",
      "save /context/data/api/ergastf1/constructors/0.json\n",
      "GET https://ergast.com/api/f1/constructors.json?limit=100&offset=100\n",
      "save /context/data/api/ergastf1/constructors/1.json\n",
      "GET https://ergast.com/api/f1/constructors.json?limit=100&offset=200\n",
      "save /context/data/api/ergastf1/constructors/2.json\n",
      "209 rows\n",
      "('constructorId', 'name', 'nationality', 'url')\n"
     ]
    },
    {
     "data": {
      "text/plain": [
       "[Constructor(constructorId='wolf', name='Wolf', nationality='Canadian', url='http://en.wikipedia.org/wiki/Walter_Wolf_Racing'),\n",
       " Constructor(constructorId='zakspeed', name='Zakspeed', nationality='German', url='http://en.wikipedia.org/wiki/Zakspeed')]"
      ]
     },
     "execution_count": 11,
     "metadata": {},
     "output_type": "execute_result"
    }
   ],
   "source": [
    "show(api.constructors)"
   ]
  },
  {
   "cell_type": "code",
   "execution_count": 12,
   "metadata": {},
   "outputs": [
    {
     "name": "stdout",
     "output_type": "stream",
     "text": [
      "mkdir /context/data/api/ergastf1/drivers\n",
      "GET https://ergast.com/api/f1/drivers.json?limit=100&offset=0\n",
      "save /context/data/api/ergastf1/drivers/0.json\n",
      "GET https://ergast.com/api/f1/drivers.json?limit=100&offset=100\n",
      "save /context/data/api/ergastf1/drivers/1.json\n",
      "GET https://ergast.com/api/f1/drivers.json?limit=100&offset=200\n",
      "save /context/data/api/ergastf1/drivers/2.json\n",
      "GET https://ergast.com/api/f1/drivers.json?limit=100&offset=300\n",
      "save /context/data/api/ergastf1/drivers/3.json\n",
      "GET https://ergast.com/api/f1/drivers.json?limit=100&offset=400\n",
      "save /context/data/api/ergastf1/drivers/4.json\n",
      "GET https://ergast.com/api/f1/drivers.json?limit=100&offset=500\n",
      "save /context/data/api/ergastf1/drivers/5.json\n",
      "GET https://ergast.com/api/f1/drivers.json?limit=100&offset=600\n",
      "save /context/data/api/ergastf1/drivers/6.json\n",
      "GET https://ergast.com/api/f1/drivers.json?limit=100&offset=700\n",
      "save /context/data/api/ergastf1/drivers/7.json\n",
      "GET https://ergast.com/api/f1/drivers.json?limit=100&offset=800\n",
      "save /context/data/api/ergastf1/drivers/8.json\n",
      "847 rows\n",
      "('driverId', 'code', 'dateOfBirth', 'familyName', 'givenName', 'nationality', 'permanentNumber', 'url')\n"
     ]
    },
    {
     "data": {
      "text/plain": [
       "[Driver(driverId='zorzi', code=None, dateOfBirth='1946-12-12', familyName='Zorzi', givenName='Renzo', nationality='Italian', permanentNumber=None, url='http://en.wikipedia.org/wiki/Renzo_Zorzi'),\n",
       " Driver(driverId='zunino', code=None, dateOfBirth='1949-04-13', familyName='Zunino', givenName='Ricardo', nationality='Argentine', permanentNumber=None, url='http://en.wikipedia.org/wiki/Ricardo_Zunino')]"
      ]
     },
     "execution_count": 12,
     "metadata": {},
     "output_type": "execute_result"
    }
   ],
   "source": [
    "show(api.drivers)"
   ]
  },
  {
   "cell_type": "code",
   "execution_count": 13,
   "metadata": {},
   "outputs": [
    {
     "name": "stdout",
     "output_type": "stream",
     "text": [
      "mkdir /context/data/api/ergastf1/seasons\n",
      "GET https://ergast.com/api/f1/seasons.json?limit=100&offset=0\n",
      "save /context/data/api/ergastf1/seasons/0.json\n",
      "71 rows\n",
      "('season', 'url')\n"
     ]
    },
    {
     "data": {
      "text/plain": [
       "[Season(season='2019', url='https://en.wikipedia.org/wiki/2019_Formula_One_World_Championship'),\n",
       " Season(season='2020', url='https://en.wikipedia.org/wiki/2020_Formula_One_World_Championship')]"
      ]
     },
     "execution_count": 13,
     "metadata": {},
     "output_type": "execute_result"
    }
   ],
   "source": [
    "show(api.seasons)"
   ]
  },
  {
   "cell_type": "code",
   "execution_count": 14,
   "metadata": {},
   "outputs": [
    {
     "name": "stdout",
     "output_type": "stream",
     "text": [
      "mkdir /context/data/api/ergastf1/status\n",
      "GET https://ergast.com/api/f1/status.json?limit=100&offset=0\n",
      "save /context/data/api/ergastf1/status/0.json\n",
      "GET https://ergast.com/api/f1/status.json?limit=100&offset=100\n",
      "save /context/data/api/ergastf1/status/1.json\n",
      "133 rows\n",
      "('statusId', 'count', 'status')\n"
     ]
    },
    {
     "data": {
      "text/plain": [
       "[Status(statusId='136', count='1', status='Seat'),\n",
       " Status(statusId='137', count='1', status='Damage')]"
      ]
     },
     "execution_count": 14,
     "metadata": {},
     "output_type": "execute_result"
    }
   ],
   "source": [
    "show(api.status)"
   ]
  },
  {
   "cell_type": "markdown",
   "metadata": {},
   "source": [
    "## cache control\n",
    "\n",
    "- `batches(*args)` returns fresh pages.\n",
    "- `cached(*args)` ensures cached pages exist and returns them.\n",
    "- `download(*args)` deletes old pages (if any) and saves new ones.\n",
    "- `erase(*args)` deletes old pages.\n",
    "\n",
    "Each method *only* affects pages for a specific query.  "
   ]
  },
  {
   "cell_type": "code",
   "execution_count": 15,
   "metadata": {
    "scrolled": false
   },
   "outputs": [
    {
     "name": "stdout",
     "output_type": "stream",
     "text": [
      "GET https://ergast.com/api/f1/1990/6/pitstops.json?limit=100&offset=0\n"
     ]
    },
    {
     "data": {
      "text/plain": [
       "[{'MRData': {'xmlns': 'http://ergast.com/mrd/1.4',\n",
       "   'series': 'f1',\n",
       "   'url': 'http://ergast.com/api/f1/1990/6/pitstops.json',\n",
       "   'limit': '100',\n",
       "   'offset': '0',\n",
       "   'total': '0',\n",
       "   'RaceTable': {'season': '1990', 'round': '6', 'Races': []}}}]"
      ]
     },
     "execution_count": 15,
     "metadata": {},
     "output_type": "execute_result"
    }
   ],
   "source": [
    "list(api.batches(1990, 6, 'pitstops'))"
   ]
  },
  {
   "cell_type": "code",
   "execution_count": 16,
   "metadata": {},
   "outputs": [
    {
     "name": "stdout",
     "output_type": "stream",
     "text": [
      "mkdir /context/data/api/ergastf1/1990/6/pitstops\n",
      "GET https://ergast.com/api/f1/1990/6/pitstops.json?limit=100&offset=0\n",
      "save /context/data/api/ergastf1/1990/6/pitstops/0.json\n"
     ]
    },
    {
     "data": {
      "text/plain": [
       "[{'MRData': {'xmlns': 'http://ergast.com/mrd/1.4',\n",
       "   'series': 'f1',\n",
       "   'url': 'http://ergast.com/api/f1/1990/6/pitstops.json',\n",
       "   'limit': '100',\n",
       "   'offset': '0',\n",
       "   'total': '0',\n",
       "   'RaceTable': {'season': '1990', 'round': '6', 'Races': []}}}]"
      ]
     },
     "execution_count": 16,
     "metadata": {},
     "output_type": "execute_result"
    }
   ],
   "source": [
    "list(api.cached(1990, 6, 'pitstops'))"
   ]
  },
  {
   "cell_type": "code",
   "execution_count": 17,
   "metadata": {},
   "outputs": [
    {
     "data": {
      "text/plain": [
       "[{'MRData': {'xmlns': 'http://ergast.com/mrd/1.4',\n",
       "   'series': 'f1',\n",
       "   'url': 'http://ergast.com/api/f1/1990/6/pitstops.json',\n",
       "   'limit': '100',\n",
       "   'offset': '0',\n",
       "   'total': '0',\n",
       "   'RaceTable': {'season': '1990', 'round': '6', 'Races': []}}}]"
      ]
     },
     "execution_count": 17,
     "metadata": {},
     "output_type": "execute_result"
    }
   ],
   "source": [
    "list(api.cached(1990, 6, 'pitstops'))"
   ]
  },
  {
   "cell_type": "code",
   "execution_count": 18,
   "metadata": {},
   "outputs": [
    {
     "name": "stdout",
     "output_type": "stream",
     "text": [
      "rm /context/data/api/ergastf1/1990/6/pitstops/0.json\n",
      "GET https://ergast.com/api/f1/1990/6/pitstops.json?limit=100&offset=0\n",
      "save /context/data/api/ergastf1/1990/6/pitstops/0.json\n"
     ]
    }
   ],
   "source": [
    "api.download(1990, 6, 'pitstops')"
   ]
  },
  {
   "cell_type": "code",
   "execution_count": 19,
   "metadata": {},
   "outputs": [
    {
     "name": "stdout",
     "output_type": "stream",
     "text": [
      "rm /context/data/api/ergastf1/1990/6/pitstops/0.json\n"
     ]
    }
   ],
   "source": [
    "api.erase(1990, 6, 'pitstops')"
   ]
  },
  {
   "cell_type": "markdown",
   "metadata": {},
   "source": [
    "## automatic retries\n",
    "If at first you don't succeed, try again with exponential backoff."
   ]
  },
  {
   "cell_type": "code",
   "execution_count": 20,
   "metadata": {
    "scrolled": false
   },
   "outputs": [
    {
     "name": "stdout",
     "output_type": "stream",
     "text": [
      "GET https://ergast.com/api/f1/spam.json?limit=100&offset=0\n"
     ]
    },
    {
     "name": "stderr",
     "output_type": "stream",
     "text": [
      "ERROR api.ergastf1 Retry in 0.05 seconds because <urlopen error timed out>\n",
      "ERROR api.ergastf1 Retry in 0.1 seconds because <urlopen error timed out>\n",
      "ERROR api.ergastf1 Retry in 0.2 seconds because HTTP Error 400: Bad Request\n",
      "ERROR api.ergastf1 Gave up after 3 retries.\n"
     ]
    },
    {
     "ename": "HTTPError",
     "evalue": "HTTP Error 400: Bad Request",
     "output_type": "error",
     "traceback": [
      "\u001b[0;31m---------------------------------------------------------------------------\u001b[0m",
      "\u001b[0;31mHTTPError\u001b[0m                                 Traceback (most recent call last)",
      "\u001b[0;32m<ipython-input-20-8d09b7aa5f74>\u001b[0m in \u001b[0;36m<module>\u001b[0;34m\u001b[0m\n\u001b[1;32m      1\u001b[0m \u001b[0mapi\u001b[0m \u001b[0;34m=\u001b[0m \u001b[0mErgastF1\u001b[0m\u001b[0;34m(\u001b[0m\u001b[0mretries\u001b[0m\u001b[0;34m=\u001b[0m\u001b[0;36m3\u001b[0m\u001b[0;34m,\u001b[0m \u001b[0mtimeout\u001b[0m\u001b[0;34m=\u001b[0m\u001b[0;36m0.05\u001b[0m\u001b[0;34m)\u001b[0m\u001b[0;34m\u001b[0m\u001b[0;34m\u001b[0m\u001b[0m\n\u001b[1;32m      2\u001b[0m \u001b[0mpages\u001b[0m \u001b[0;34m=\u001b[0m \u001b[0mapi\u001b[0m\u001b[0;34m(\u001b[0m\u001b[0;34m'spam'\u001b[0m\u001b[0;34m)\u001b[0m\u001b[0;34m\u001b[0m\u001b[0;34m\u001b[0m\u001b[0m\n\u001b[0;32m----> 3\u001b[0;31m \u001b[0mdata\u001b[0m \u001b[0;34m=\u001b[0m \u001b[0mnext\u001b[0m\u001b[0;34m(\u001b[0m\u001b[0mpages\u001b[0m\u001b[0;34m)\u001b[0m\u001b[0;34m\u001b[0m\u001b[0;34m\u001b[0m\u001b[0m\n\u001b[0m",
      "\u001b[0;32m/context/code/api/ergastf1.py\u001b[0m in \u001b[0;36mbatches\u001b[0;34m(self, *args)\u001b[0m\n\u001b[1;32m    123\u001b[0m         \u001b[0moffset\u001b[0m\u001b[0;34m,\u001b[0m \u001b[0mtotal\u001b[0m \u001b[0;34m=\u001b[0m \u001b[0;36m0\u001b[0m\u001b[0;34m,\u001b[0m \u001b[0;36m1\u001b[0m\u001b[0;34m\u001b[0m\u001b[0;34m\u001b[0m\u001b[0m\n\u001b[1;32m    124\u001b[0m         \u001b[0;32mwhile\u001b[0m \u001b[0moffset\u001b[0m \u001b[0;34m<\u001b[0m \u001b[0mtotal\u001b[0m\u001b[0;34m:\u001b[0m\u001b[0;34m\u001b[0m\u001b[0;34m\u001b[0m\u001b[0m\n\u001b[0;32m--> 125\u001b[0;31m             \u001b[0mpage\u001b[0m \u001b[0;34m=\u001b[0m \u001b[0mreply\u001b[0m\u001b[0;34m(\u001b[0m\u001b[0;34m*\u001b[0m\u001b[0margs\u001b[0m\u001b[0;34m,\u001b[0m \u001b[0moffset\u001b[0m\u001b[0;34m=\u001b[0m\u001b[0moffset\u001b[0m\u001b[0;34m)\u001b[0m\u001b[0;34m\u001b[0m\u001b[0;34m\u001b[0m\u001b[0m\n\u001b[0m\u001b[1;32m    126\u001b[0m             \u001b[0mtotal\u001b[0m \u001b[0;34m=\u001b[0m \u001b[0mint\u001b[0m\u001b[0;34m(\u001b[0m\u001b[0mpage\u001b[0m\u001b[0;34m[\u001b[0m\u001b[0;34m'MRData'\u001b[0m\u001b[0;34m]\u001b[0m\u001b[0;34m[\u001b[0m\u001b[0;34m'total'\u001b[0m\u001b[0;34m]\u001b[0m\u001b[0;34m)\u001b[0m\u001b[0;34m\u001b[0m\u001b[0;34m\u001b[0m\u001b[0m\n\u001b[1;32m    127\u001b[0m             \u001b[0moffset\u001b[0m \u001b[0;34m+=\u001b[0m \u001b[0mlimit\u001b[0m\u001b[0;34m\u001b[0m\u001b[0;34m\u001b[0m\u001b[0m\n",
      "\u001b[0;32m/context/code/api/ergastf1.py\u001b[0m in \u001b[0;36mreply\u001b[0;34m(self, offset, *args)\u001b[0m\n\u001b[1;32m    191\u001b[0m                 \u001b[0;32melse\u001b[0m\u001b[0;34m:\u001b[0m\u001b[0;34m\u001b[0m\u001b[0;34m\u001b[0m\u001b[0m\n\u001b[1;32m    192\u001b[0m                     \u001b[0mwarn\u001b[0m\u001b[0;34m(\u001b[0m\u001b[0;34mf\"Gave up after {retries} retries.\"\u001b[0m\u001b[0;34m)\u001b[0m\u001b[0;34m\u001b[0m\u001b[0;34m\u001b[0m\u001b[0m\n\u001b[0;32m--> 193\u001b[0;31m                     \u001b[0;32mraise\u001b[0m \u001b[0merr\u001b[0m\u001b[0;34m\u001b[0m\u001b[0;34m\u001b[0m\u001b[0m\n\u001b[0m",
      "\u001b[0;32m/context/code/api/ergastf1.py\u001b[0m in \u001b[0;36mreply\u001b[0;34m(self, offset, *args)\u001b[0m\n\u001b[1;32m    181\u001b[0m         \u001b[0;32mfor\u001b[0m \u001b[0mitry\u001b[0m \u001b[0;32min\u001b[0m \u001b[0mreversed\u001b[0m\u001b[0;34m(\u001b[0m\u001b[0mrange\u001b[0m\u001b[0;34m(\u001b[0m\u001b[0;36m1\u001b[0m\u001b[0;34m+\u001b[0m\u001b[0mretries\u001b[0m\u001b[0;34m)\u001b[0m\u001b[0;34m)\u001b[0m\u001b[0;34m:\u001b[0m\u001b[0;34m\u001b[0m\u001b[0;34m\u001b[0m\u001b[0m\n\u001b[1;32m    182\u001b[0m             \u001b[0;32mtry\u001b[0m\u001b[0;34m:\u001b[0m\u001b[0;34m\u001b[0m\u001b[0;34m\u001b[0m\u001b[0m\n\u001b[0;32m--> 183\u001b[0;31m                 \u001b[0;32mwith\u001b[0m \u001b[0murlopen\u001b[0m\u001b[0;34m(\u001b[0m\u001b[0murl\u001b[0m\u001b[0;34m,\u001b[0m \u001b[0mtimeout\u001b[0m\u001b[0;34m=\u001b[0m\u001b[0mtimeout\u001b[0m\u001b[0;34m)\u001b[0m \u001b[0;32mas\u001b[0m \u001b[0mfile\u001b[0m\u001b[0;34m:\u001b[0m\u001b[0;34m\u001b[0m\u001b[0;34m\u001b[0m\u001b[0m\n\u001b[0m\u001b[1;32m    184\u001b[0m                     \u001b[0;32mreturn\u001b[0m \u001b[0mloads\u001b[0m\u001b[0;34m(\u001b[0m\u001b[0mfile\u001b[0m\u001b[0;34m.\u001b[0m\u001b[0mread\u001b[0m\u001b[0;34m(\u001b[0m\u001b[0;34m)\u001b[0m\u001b[0;34m)\u001b[0m\u001b[0;34m\u001b[0m\u001b[0;34m\u001b[0m\u001b[0m\n\u001b[1;32m    185\u001b[0m \u001b[0;34m\u001b[0m\u001b[0m\n",
      "\u001b[0;32m/usr/local/lib/python3.7/urllib/request.py\u001b[0m in \u001b[0;36murlopen\u001b[0;34m(url, data, timeout, cafile, capath, cadefault, context)\u001b[0m\n\u001b[1;32m    220\u001b[0m     \u001b[0;32melse\u001b[0m\u001b[0;34m:\u001b[0m\u001b[0;34m\u001b[0m\u001b[0;34m\u001b[0m\u001b[0m\n\u001b[1;32m    221\u001b[0m         \u001b[0mopener\u001b[0m \u001b[0;34m=\u001b[0m \u001b[0m_opener\u001b[0m\u001b[0;34m\u001b[0m\u001b[0;34m\u001b[0m\u001b[0m\n\u001b[0;32m--> 222\u001b[0;31m     \u001b[0;32mreturn\u001b[0m \u001b[0mopener\u001b[0m\u001b[0;34m.\u001b[0m\u001b[0mopen\u001b[0m\u001b[0;34m(\u001b[0m\u001b[0murl\u001b[0m\u001b[0;34m,\u001b[0m \u001b[0mdata\u001b[0m\u001b[0;34m,\u001b[0m \u001b[0mtimeout\u001b[0m\u001b[0;34m)\u001b[0m\u001b[0;34m\u001b[0m\u001b[0;34m\u001b[0m\u001b[0m\n\u001b[0m\u001b[1;32m    223\u001b[0m \u001b[0;34m\u001b[0m\u001b[0m\n\u001b[1;32m    224\u001b[0m \u001b[0;32mdef\u001b[0m \u001b[0minstall_opener\u001b[0m\u001b[0;34m(\u001b[0m\u001b[0mopener\u001b[0m\u001b[0;34m)\u001b[0m\u001b[0;34m:\u001b[0m\u001b[0;34m\u001b[0m\u001b[0;34m\u001b[0m\u001b[0m\n",
      "\u001b[0;32m/usr/local/lib/python3.7/urllib/request.py\u001b[0m in \u001b[0;36mopen\u001b[0;34m(self, fullurl, data, timeout)\u001b[0m\n\u001b[1;32m    529\u001b[0m         \u001b[0;32mfor\u001b[0m \u001b[0mprocessor\u001b[0m \u001b[0;32min\u001b[0m \u001b[0mself\u001b[0m\u001b[0;34m.\u001b[0m\u001b[0mprocess_response\u001b[0m\u001b[0;34m.\u001b[0m\u001b[0mget\u001b[0m\u001b[0;34m(\u001b[0m\u001b[0mprotocol\u001b[0m\u001b[0;34m,\u001b[0m \u001b[0;34m[\u001b[0m\u001b[0;34m]\u001b[0m\u001b[0;34m)\u001b[0m\u001b[0;34m:\u001b[0m\u001b[0;34m\u001b[0m\u001b[0;34m\u001b[0m\u001b[0m\n\u001b[1;32m    530\u001b[0m             \u001b[0mmeth\u001b[0m \u001b[0;34m=\u001b[0m \u001b[0mgetattr\u001b[0m\u001b[0;34m(\u001b[0m\u001b[0mprocessor\u001b[0m\u001b[0;34m,\u001b[0m \u001b[0mmeth_name\u001b[0m\u001b[0;34m)\u001b[0m\u001b[0;34m\u001b[0m\u001b[0;34m\u001b[0m\u001b[0m\n\u001b[0;32m--> 531\u001b[0;31m             \u001b[0mresponse\u001b[0m \u001b[0;34m=\u001b[0m \u001b[0mmeth\u001b[0m\u001b[0;34m(\u001b[0m\u001b[0mreq\u001b[0m\u001b[0;34m,\u001b[0m \u001b[0mresponse\u001b[0m\u001b[0;34m)\u001b[0m\u001b[0;34m\u001b[0m\u001b[0;34m\u001b[0m\u001b[0m\n\u001b[0m\u001b[1;32m    532\u001b[0m \u001b[0;34m\u001b[0m\u001b[0m\n\u001b[1;32m    533\u001b[0m         \u001b[0;32mreturn\u001b[0m \u001b[0mresponse\u001b[0m\u001b[0;34m\u001b[0m\u001b[0;34m\u001b[0m\u001b[0m\n",
      "\u001b[0;32m/usr/local/lib/python3.7/urllib/request.py\u001b[0m in \u001b[0;36mhttp_response\u001b[0;34m(self, request, response)\u001b[0m\n\u001b[1;32m    639\u001b[0m         \u001b[0;32mif\u001b[0m \u001b[0;32mnot\u001b[0m \u001b[0;34m(\u001b[0m\u001b[0;36m200\u001b[0m \u001b[0;34m<=\u001b[0m \u001b[0mcode\u001b[0m \u001b[0;34m<\u001b[0m \u001b[0;36m300\u001b[0m\u001b[0;34m)\u001b[0m\u001b[0;34m:\u001b[0m\u001b[0;34m\u001b[0m\u001b[0;34m\u001b[0m\u001b[0m\n\u001b[1;32m    640\u001b[0m             response = self.parent.error(\n\u001b[0;32m--> 641\u001b[0;31m                 'http', request, response, code, msg, hdrs)\n\u001b[0m\u001b[1;32m    642\u001b[0m \u001b[0;34m\u001b[0m\u001b[0m\n\u001b[1;32m    643\u001b[0m         \u001b[0;32mreturn\u001b[0m \u001b[0mresponse\u001b[0m\u001b[0;34m\u001b[0m\u001b[0;34m\u001b[0m\u001b[0m\n",
      "\u001b[0;32m/usr/local/lib/python3.7/urllib/request.py\u001b[0m in \u001b[0;36merror\u001b[0;34m(self, proto, *args)\u001b[0m\n\u001b[1;32m    567\u001b[0m         \u001b[0;32mif\u001b[0m \u001b[0mhttp_err\u001b[0m\u001b[0;34m:\u001b[0m\u001b[0;34m\u001b[0m\u001b[0;34m\u001b[0m\u001b[0m\n\u001b[1;32m    568\u001b[0m             \u001b[0margs\u001b[0m \u001b[0;34m=\u001b[0m \u001b[0;34m(\u001b[0m\u001b[0mdict\u001b[0m\u001b[0;34m,\u001b[0m \u001b[0;34m'default'\u001b[0m\u001b[0;34m,\u001b[0m \u001b[0;34m'http_error_default'\u001b[0m\u001b[0;34m)\u001b[0m \u001b[0;34m+\u001b[0m \u001b[0morig_args\u001b[0m\u001b[0;34m\u001b[0m\u001b[0;34m\u001b[0m\u001b[0m\n\u001b[0;32m--> 569\u001b[0;31m             \u001b[0;32mreturn\u001b[0m \u001b[0mself\u001b[0m\u001b[0;34m.\u001b[0m\u001b[0m_call_chain\u001b[0m\u001b[0;34m(\u001b[0m\u001b[0;34m*\u001b[0m\u001b[0margs\u001b[0m\u001b[0;34m)\u001b[0m\u001b[0;34m\u001b[0m\u001b[0;34m\u001b[0m\u001b[0m\n\u001b[0m\u001b[1;32m    570\u001b[0m \u001b[0;34m\u001b[0m\u001b[0m\n\u001b[1;32m    571\u001b[0m \u001b[0;31m# XXX probably also want an abstract factory that knows when it makes\u001b[0m\u001b[0;34m\u001b[0m\u001b[0;34m\u001b[0m\u001b[0;34m\u001b[0m\u001b[0m\n",
      "\u001b[0;32m/usr/local/lib/python3.7/urllib/request.py\u001b[0m in \u001b[0;36m_call_chain\u001b[0;34m(self, chain, kind, meth_name, *args)\u001b[0m\n\u001b[1;32m    501\u001b[0m         \u001b[0;32mfor\u001b[0m \u001b[0mhandler\u001b[0m \u001b[0;32min\u001b[0m \u001b[0mhandlers\u001b[0m\u001b[0;34m:\u001b[0m\u001b[0;34m\u001b[0m\u001b[0;34m\u001b[0m\u001b[0m\n\u001b[1;32m    502\u001b[0m             \u001b[0mfunc\u001b[0m \u001b[0;34m=\u001b[0m \u001b[0mgetattr\u001b[0m\u001b[0;34m(\u001b[0m\u001b[0mhandler\u001b[0m\u001b[0;34m,\u001b[0m \u001b[0mmeth_name\u001b[0m\u001b[0;34m)\u001b[0m\u001b[0;34m\u001b[0m\u001b[0;34m\u001b[0m\u001b[0m\n\u001b[0;32m--> 503\u001b[0;31m             \u001b[0mresult\u001b[0m \u001b[0;34m=\u001b[0m \u001b[0mfunc\u001b[0m\u001b[0;34m(\u001b[0m\u001b[0;34m*\u001b[0m\u001b[0margs\u001b[0m\u001b[0;34m)\u001b[0m\u001b[0;34m\u001b[0m\u001b[0;34m\u001b[0m\u001b[0m\n\u001b[0m\u001b[1;32m    504\u001b[0m             \u001b[0;32mif\u001b[0m \u001b[0mresult\u001b[0m \u001b[0;32mis\u001b[0m \u001b[0;32mnot\u001b[0m \u001b[0;32mNone\u001b[0m\u001b[0;34m:\u001b[0m\u001b[0;34m\u001b[0m\u001b[0;34m\u001b[0m\u001b[0m\n\u001b[1;32m    505\u001b[0m                 \u001b[0;32mreturn\u001b[0m \u001b[0mresult\u001b[0m\u001b[0;34m\u001b[0m\u001b[0;34m\u001b[0m\u001b[0m\n",
      "\u001b[0;32m/usr/local/lib/python3.7/urllib/request.py\u001b[0m in \u001b[0;36mhttp_error_default\u001b[0;34m(self, req, fp, code, msg, hdrs)\u001b[0m\n\u001b[1;32m    647\u001b[0m \u001b[0;32mclass\u001b[0m \u001b[0mHTTPDefaultErrorHandler\u001b[0m\u001b[0;34m(\u001b[0m\u001b[0mBaseHandler\u001b[0m\u001b[0;34m)\u001b[0m\u001b[0;34m:\u001b[0m\u001b[0;34m\u001b[0m\u001b[0;34m\u001b[0m\u001b[0m\n\u001b[1;32m    648\u001b[0m     \u001b[0;32mdef\u001b[0m \u001b[0mhttp_error_default\u001b[0m\u001b[0;34m(\u001b[0m\u001b[0mself\u001b[0m\u001b[0;34m,\u001b[0m \u001b[0mreq\u001b[0m\u001b[0;34m,\u001b[0m \u001b[0mfp\u001b[0m\u001b[0;34m,\u001b[0m \u001b[0mcode\u001b[0m\u001b[0;34m,\u001b[0m \u001b[0mmsg\u001b[0m\u001b[0;34m,\u001b[0m \u001b[0mhdrs\u001b[0m\u001b[0;34m)\u001b[0m\u001b[0;34m:\u001b[0m\u001b[0;34m\u001b[0m\u001b[0;34m\u001b[0m\u001b[0m\n\u001b[0;32m--> 649\u001b[0;31m         \u001b[0;32mraise\u001b[0m \u001b[0mHTTPError\u001b[0m\u001b[0;34m(\u001b[0m\u001b[0mreq\u001b[0m\u001b[0;34m.\u001b[0m\u001b[0mfull_url\u001b[0m\u001b[0;34m,\u001b[0m \u001b[0mcode\u001b[0m\u001b[0;34m,\u001b[0m \u001b[0mmsg\u001b[0m\u001b[0;34m,\u001b[0m \u001b[0mhdrs\u001b[0m\u001b[0;34m,\u001b[0m \u001b[0mfp\u001b[0m\u001b[0;34m)\u001b[0m\u001b[0;34m\u001b[0m\u001b[0;34m\u001b[0m\u001b[0m\n\u001b[0m\u001b[1;32m    650\u001b[0m \u001b[0;34m\u001b[0m\u001b[0m\n\u001b[1;32m    651\u001b[0m \u001b[0;32mclass\u001b[0m \u001b[0mHTTPRedirectHandler\u001b[0m\u001b[0;34m(\u001b[0m\u001b[0mBaseHandler\u001b[0m\u001b[0;34m)\u001b[0m\u001b[0;34m:\u001b[0m\u001b[0;34m\u001b[0m\u001b[0;34m\u001b[0m\u001b[0m\n",
      "\u001b[0;31mHTTPError\u001b[0m: HTTP Error 400: Bad Request"
     ]
    }
   ],
   "source": [
    "api = ErgastF1(retries=3, timeout=0.05)\n",
    "pages = api('spam')\n",
    "data = next(pages)"
   ]
  }
 ],
 "metadata": {
  "kernelspec": {
   "display_name": "Python 3",
   "language": "python",
   "name": "python3"
  },
  "language_info": {
   "codemirror_mode": {
    "name": "ipython",
    "version": 3
   },
   "file_extension": ".py",
   "mimetype": "text/x-python",
   "name": "python",
   "nbconvert_exporter": "python",
   "pygments_lexer": "ipython3",
   "version": "3.7.5"
  }
 },
 "nbformat": 4,
 "nbformat_minor": 2
}
