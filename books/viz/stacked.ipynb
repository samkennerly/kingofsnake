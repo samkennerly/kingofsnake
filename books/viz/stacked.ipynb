{
 "cells": [
  {
   "cell_type": "markdown",
   "metadata": {},
   "source": [
    "# stacked plots"
   ]
  },
  {
   "cell_type": "code",
   "execution_count": 1,
   "metadata": {},
   "outputs": [
    {
     "data": {
      "application/javascript": [
       "IPython.notebook.set_autosave_interval(0)"
      ]
     },
     "metadata": {},
     "output_type": "display_data"
    },
    {
     "name": "stdout",
     "output_type": "stream",
     "text": [
      "Autosave disabled\n"
     ]
    }
   ],
   "source": [
    "%load_ext autoreload\n",
    "%autoreload 2\n",
    "%autosave 0"
   ]
  },
  {
   "cell_type": "code",
   "execution_count": 2,
   "metadata": {},
   "outputs": [],
   "source": [
    "from etl import DATADIR, ErgastF1\n",
    "from viz import Plot"
   ]
  },
  {
   "cell_type": "markdown",
   "metadata": {},
   "source": [
    "## Total Competition\n",
    "What % of points went to each team on each year?"
   ]
  },
  {
   "cell_type": "markdown",
   "metadata": {},
   "source": [
    "### load data downloaded from [ergast.com/mrd](ergast.com/mrd)"
   ]
  },
  {
   "cell_type": "code",
   "execution_count": 3,
   "metadata": {},
   "outputs": [],
   "source": [
    "f1 = ErgastF1(DATADIR / 'ergast/f1.zip')\n",
    "plot = Plot()"
   ]
  },
  {
   "cell_type": "markdown",
   "metadata": {},
   "source": [
    "### join, filter, and sort tables"
   ]
  },
  {
   "cell_type": "code",
   "execution_count": 4,
   "metadata": {},
   "outputs": [
    {
     "data": {
      "text/html": [
       "<div>\n",
       "<style scoped>\n",
       "    .dataframe tbody tr th:only-of-type {\n",
       "        vertical-align: middle;\n",
       "    }\n",
       "\n",
       "    .dataframe tbody tr th {\n",
       "        vertical-align: top;\n",
       "    }\n",
       "\n",
       "    .dataframe thead th {\n",
       "        text-align: right;\n",
       "    }\n",
       "</style>\n",
       "<table border=\"1\" class=\"dataframe\">\n",
       "  <thead>\n",
       "    <tr style=\"text-align: right;\">\n",
       "      <th></th>\n",
       "      <th>date</th>\n",
       "      <th>dsq</th>\n",
       "      <th>points</th>\n",
       "      <th>race</th>\n",
       "      <th>team</th>\n",
       "    </tr>\n",
       "  </thead>\n",
       "  <tbody>\n",
       "    <tr>\n",
       "      <th>3074</th>\n",
       "      <td>2019-12-01</td>\n",
       "      <td>False</td>\n",
       "      <td>5.0</td>\n",
       "      <td>Abu Dhabi Grand Prix</td>\n",
       "      <td>McLaren</td>\n",
       "    </tr>\n",
       "    <tr>\n",
       "      <th>3075</th>\n",
       "      <td>2019-12-01</td>\n",
       "      <td>False</td>\n",
       "      <td>38.0</td>\n",
       "      <td>Abu Dhabi Grand Prix</td>\n",
       "      <td>Mercedes</td>\n",
       "    </tr>\n",
       "    <tr>\n",
       "      <th>3076</th>\n",
       "      <td>2019-12-01</td>\n",
       "      <td>False</td>\n",
       "      <td>6.0</td>\n",
       "      <td>Abu Dhabi Grand Prix</td>\n",
       "      <td>Racing Point</td>\n",
       "    </tr>\n",
       "    <tr>\n",
       "      <th>3077</th>\n",
       "      <td>2019-12-01</td>\n",
       "      <td>False</td>\n",
       "      <td>26.0</td>\n",
       "      <td>Abu Dhabi Grand Prix</td>\n",
       "      <td>Red Bull</td>\n",
       "    </tr>\n",
       "    <tr>\n",
       "      <th>3078</th>\n",
       "      <td>2019-12-01</td>\n",
       "      <td>False</td>\n",
       "      <td>2.0</td>\n",
       "      <td>Abu Dhabi Grand Prix</td>\n",
       "      <td>Toro Rosso</td>\n",
       "    </tr>\n",
       "  </tbody>\n",
       "</table>\n",
       "</div>"
      ],
      "text/plain": [
       "           date    dsq  points                  race          team\n",
       "3074 2019-12-01  False     5.0  Abu Dhabi Grand Prix       McLaren\n",
       "3075 2019-12-01  False    38.0  Abu Dhabi Grand Prix      Mercedes\n",
       "3076 2019-12-01  False     6.0  Abu Dhabi Grand Prix  Racing Point\n",
       "3077 2019-12-01  False    26.0  Abu Dhabi Grand Prix      Red Bull\n",
       "3078 2019-12-01  False     2.0  Abu Dhabi Grand Prix    Toro Rosso"
      ]
     },
     "execution_count": 4,
     "metadata": {},
     "output_type": "execute_result"
    }
   ],
   "source": [
    "points = (\n",
    "    f1.team_results\n",
    "    .loc[lambda df: df['points'] > 0]\n",
    "    .set_index('id_race').join(f1.races[['date', 'race']])\n",
    "    .loc[lambda df: df['date'] > '1989']\n",
    "    .set_index('id_team').join(f1.teams['team'])\n",
    "    .sort_values(['date','team']).sort_index(axis=1)\n",
    "    .reset_index(drop=True)\n",
    ")\n",
    "points.tail()"
   ]
  },
  {
   "cell_type": "markdown",
   "metadata": {},
   "source": [
    "### count points for each (year, team)"
   ]
  },
  {
   "cell_type": "code",
   "execution_count": 5,
   "metadata": {
    "scrolled": false
   },
   "outputs": [
    {
     "data": {
      "text/html": [
       "<div>\n",
       "<style scoped>\n",
       "    .dataframe tbody tr th:only-of-type {\n",
       "        vertical-align: middle;\n",
       "    }\n",
       "\n",
       "    .dataframe tbody tr th {\n",
       "        vertical-align: top;\n",
       "    }\n",
       "\n",
       "    .dataframe thead th {\n",
       "        text-align: right;\n",
       "    }\n",
       "</style>\n",
       "<table border=\"1\" class=\"dataframe\">\n",
       "  <thead>\n",
       "    <tr style=\"text-align: right;\">\n",
       "      <th>team</th>\n",
       "      <th>AGS</th>\n",
       "      <th>Alfa Romeo</th>\n",
       "      <th>Arrows</th>\n",
       "      <th>BAR</th>\n",
       "      <th>BMW Sauber</th>\n",
       "      <th>Benetton</th>\n",
       "      <th>Brabham</th>\n",
       "      <th>Brawn</th>\n",
       "      <th>Dallara</th>\n",
       "      <th>Ferrari</th>\n",
       "      <th>...</th>\n",
       "      <th>Rial</th>\n",
       "      <th>Sauber</th>\n",
       "      <th>Spyker</th>\n",
       "      <th>Stewart</th>\n",
       "      <th>Super Aguri</th>\n",
       "      <th>Team Lotus</th>\n",
       "      <th>Toro Rosso</th>\n",
       "      <th>Toyota</th>\n",
       "      <th>Tyrrell</th>\n",
       "      <th>Williams</th>\n",
       "    </tr>\n",
       "    <tr>\n",
       "      <th>date</th>\n",
       "      <th></th>\n",
       "      <th></th>\n",
       "      <th></th>\n",
       "      <th></th>\n",
       "      <th></th>\n",
       "      <th></th>\n",
       "      <th></th>\n",
       "      <th></th>\n",
       "      <th></th>\n",
       "      <th></th>\n",
       "      <th></th>\n",
       "      <th></th>\n",
       "      <th></th>\n",
       "      <th></th>\n",
       "      <th></th>\n",
       "      <th></th>\n",
       "      <th></th>\n",
       "      <th></th>\n",
       "      <th></th>\n",
       "      <th></th>\n",
       "      <th></th>\n",
       "    </tr>\n",
       "  </thead>\n",
       "  <tbody>\n",
       "    <tr>\n",
       "      <th>2015</th>\n",
       "      <td>0.0</td>\n",
       "      <td>0.000000</td>\n",
       "      <td>0.0</td>\n",
       "      <td>0.0</td>\n",
       "      <td>0.0</td>\n",
       "      <td>0.0</td>\n",
       "      <td>0.0</td>\n",
       "      <td>0.0</td>\n",
       "      <td>0.0</td>\n",
       "      <td>22.303283</td>\n",
       "      <td>...</td>\n",
       "      <td>0.0</td>\n",
       "      <td>1.875977</td>\n",
       "      <td>0.0</td>\n",
       "      <td>0.0</td>\n",
       "      <td>0.0</td>\n",
       "      <td>0.0</td>\n",
       "      <td>3.491402</td>\n",
       "      <td>0.0</td>\n",
       "      <td>0.0</td>\n",
       "      <td>13.392392</td>\n",
       "    </tr>\n",
       "    <tr>\n",
       "      <th>2016</th>\n",
       "      <td>0.0</td>\n",
       "      <td>0.000000</td>\n",
       "      <td>0.0</td>\n",
       "      <td>0.0</td>\n",
       "      <td>0.0</td>\n",
       "      <td>0.0</td>\n",
       "      <td>0.0</td>\n",
       "      <td>0.0</td>\n",
       "      <td>0.0</td>\n",
       "      <td>18.764734</td>\n",
       "      <td>...</td>\n",
       "      <td>0.0</td>\n",
       "      <td>0.094295</td>\n",
       "      <td>0.0</td>\n",
       "      <td>0.0</td>\n",
       "      <td>0.0</td>\n",
       "      <td>0.0</td>\n",
       "      <td>2.970297</td>\n",
       "      <td>0.0</td>\n",
       "      <td>0.0</td>\n",
       "      <td>6.506365</td>\n",
       "    </tr>\n",
       "    <tr>\n",
       "      <th>2017</th>\n",
       "      <td>0.0</td>\n",
       "      <td>0.000000</td>\n",
       "      <td>0.0</td>\n",
       "      <td>0.0</td>\n",
       "      <td>0.0</td>\n",
       "      <td>0.0</td>\n",
       "      <td>0.0</td>\n",
       "      <td>0.0</td>\n",
       "      <td>0.0</td>\n",
       "      <td>25.841584</td>\n",
       "      <td>...</td>\n",
       "      <td>0.0</td>\n",
       "      <td>0.247525</td>\n",
       "      <td>0.0</td>\n",
       "      <td>0.0</td>\n",
       "      <td>0.0</td>\n",
       "      <td>0.0</td>\n",
       "      <td>2.623762</td>\n",
       "      <td>0.0</td>\n",
       "      <td>0.0</td>\n",
       "      <td>4.108911</td>\n",
       "    </tr>\n",
       "    <tr>\n",
       "      <th>2018</th>\n",
       "      <td>0.0</td>\n",
       "      <td>0.000000</td>\n",
       "      <td>0.0</td>\n",
       "      <td>0.0</td>\n",
       "      <td>0.0</td>\n",
       "      <td>0.0</td>\n",
       "      <td>0.0</td>\n",
       "      <td>0.0</td>\n",
       "      <td>0.0</td>\n",
       "      <td>26.921264</td>\n",
       "      <td>...</td>\n",
       "      <td>0.0</td>\n",
       "      <td>2.263083</td>\n",
       "      <td>0.0</td>\n",
       "      <td>0.0</td>\n",
       "      <td>0.0</td>\n",
       "      <td>0.0</td>\n",
       "      <td>1.555870</td>\n",
       "      <td>0.0</td>\n",
       "      <td>0.0</td>\n",
       "      <td>0.330033</td>\n",
       "    </tr>\n",
       "    <tr>\n",
       "      <th>2019</th>\n",
       "      <td>0.0</td>\n",
       "      <td>2.663551</td>\n",
       "      <td>0.0</td>\n",
       "      <td>0.0</td>\n",
       "      <td>0.0</td>\n",
       "      <td>0.0</td>\n",
       "      <td>0.0</td>\n",
       "      <td>0.0</td>\n",
       "      <td>0.0</td>\n",
       "      <td>23.551402</td>\n",
       "      <td>...</td>\n",
       "      <td>0.0</td>\n",
       "      <td>0.000000</td>\n",
       "      <td>0.0</td>\n",
       "      <td>0.0</td>\n",
       "      <td>0.0</td>\n",
       "      <td>0.0</td>\n",
       "      <td>3.971963</td>\n",
       "      <td>0.0</td>\n",
       "      <td>0.0</td>\n",
       "      <td>0.046729</td>\n",
       "    </tr>\n",
       "  </tbody>\n",
       "</table>\n",
       "<p>5 rows × 42 columns</p>\n",
       "</div>"
      ],
      "text/plain": [
       "team  AGS  Alfa Romeo  Arrows  BAR  BMW Sauber  Benetton  Brabham  Brawn  \\\n",
       "date                                                                       \n",
       "2015  0.0    0.000000     0.0  0.0         0.0       0.0      0.0    0.0   \n",
       "2016  0.0    0.000000     0.0  0.0         0.0       0.0      0.0    0.0   \n",
       "2017  0.0    0.000000     0.0  0.0         0.0       0.0      0.0    0.0   \n",
       "2018  0.0    0.000000     0.0  0.0         0.0       0.0      0.0    0.0   \n",
       "2019  0.0    2.663551     0.0  0.0         0.0       0.0      0.0    0.0   \n",
       "\n",
       "team  Dallara    Ferrari  ...  Rial    Sauber  Spyker  Stewart  Super Aguri  \\\n",
       "date                      ...                                                 \n",
       "2015      0.0  22.303283  ...   0.0  1.875977     0.0      0.0          0.0   \n",
       "2016      0.0  18.764734  ...   0.0  0.094295     0.0      0.0          0.0   \n",
       "2017      0.0  25.841584  ...   0.0  0.247525     0.0      0.0          0.0   \n",
       "2018      0.0  26.921264  ...   0.0  2.263083     0.0      0.0          0.0   \n",
       "2019      0.0  23.551402  ...   0.0  0.000000     0.0      0.0          0.0   \n",
       "\n",
       "team  Team Lotus  Toro Rosso  Toyota  Tyrrell   Williams  \n",
       "date                                                      \n",
       "2015         0.0    3.491402     0.0      0.0  13.392392  \n",
       "2016         0.0    2.970297     0.0      0.0   6.506365  \n",
       "2017         0.0    2.623762     0.0      0.0   4.108911  \n",
       "2018         0.0    1.555870     0.0      0.0   0.330033  \n",
       "2019         0.0    3.971963     0.0      0.0   0.046729  \n",
       "\n",
       "[5 rows x 42 columns]"
      ]
     },
     "execution_count": 5,
     "metadata": {},
     "output_type": "execute_result"
    }
   ],
   "source": [
    "data = (\n",
    "    points\n",
    "    .groupby([points['date'].dt.year, 'team'])\n",
    "    ['points'].sum().unstack(fill_value=0)\n",
    ")\n",
    "data = 100 * data.div(data.sum(axis=1), axis=0)\n",
    "data.tail()"
   ]
  },
  {
   "cell_type": "markdown",
   "metadata": {},
   "source": [
    "### focus on top-scoring teams\n",
    "42 teams would clutter the plot."
   ]
  },
  {
   "cell_type": "code",
   "execution_count": 6,
   "metadata": {},
   "outputs": [
    {
     "name": "stdout",
     "output_type": "stream",
     "text": [
      "Ferrari\n",
      "Williams\n",
      "McLaren\n",
      "Mercedes\n",
      "Red Bull\n",
      "Benetton\n",
      "Renault\n",
      "Brawn\n",
      "BMW Sauber\n",
      "BAR\n",
      "Lotus F1\n",
      "Jordan\n"
     ]
    }
   ],
   "source": [
    "top12 = data.max().nlargest(12).index\n",
    "print(*top12, sep=\"\\n\")"
   ]
  },
  {
   "cell_type": "markdown",
   "metadata": {},
   "source": [
    "### coordinate colors"
   ]
  },
  {
   "cell_type": "code",
   "execution_count": 7,
   "metadata": {},
   "outputs": [
    {
     "data": {
      "text/plain": [
       "<matplotlib.axes._subplots.AxesSubplot at 0x7f6efe29a490>"
      ]
     },
     "execution_count": 7,
     "metadata": {},
     "output_type": "execute_result"
    },
    {
     "data": {
      "image/png": "[encoded data removed]",
      "text/plain": [
       "<Figure size 864x432 with 1 Axes>"
      ]
     },
     "metadata": {
      "needs_background": "light"
     },
     "output_type": "display_data"
    }
   ],
   "source": [
    "from collections import defaultdict\n",
    "\n",
    "color = {\n",
    "    'BAR': '#77bb77',\n",
    "    'Benetton': '#00bb00',\n",
    "    'BMW Sauber': '#bbbbbb',\n",
    "    'Brawn': '#77ff00',\n",
    "    'Ferrari': \"#ff0000\",\n",
    "    'McLaren': \"#ffbb00\",\n",
    "    'Mercedes': '#77ffff',\n",
    "    'Red Bull': '#330077',\n",
    "    'Renault': '#00bbff',\n",
    "    'Williams': '#0000ff',\n",
    "    'Jordan': '#ffff00'\n",
    "}\n",
    "color = defaultdict(lambda: \"#000000\", color)\n",
    "plot.bar(data[top12], color=top12.map(color), ylabel=\"% of points\")"
   ]
  },
  {
   "cell_type": "markdown",
   "metadata": {},
   "source": [
    "### historical notes\n",
    "\n",
    "- In 1990, McLaren-Honda lost champ Prost, but won the drivers' and constructors championship with Senna.\n",
    "- Williams dominated much of the 1990's with Mansell, Prost, Hill, and Villeneuve, then fell away somewhat.\n",
    "- In 1993, McLaren suffered when Honda withdrew after powering every 1986-1991 constructors' champion.\n",
    "- In 1994, new safety rules were hastily introduced after the shocking deaths of Senna and Ratzenberger.\n",
    "- McLaren began a comeback with Häkkinen in 1993, Mercedes engines in 1995, and designer Adrian Newey in 1997.\n",
    "- In 1996, The Michael moved from Benetton to Ferrari. Ross Brawn and several Benetton engineers joined him later.\n",
    "- Between The Michael and Barrichello, Ferrari scored half of all points in 2002.\n",
    "- Renault did well with Alonso driving from 2003 through 2006, including the \"one tire year\" of 2005.\n",
    "- In 2007, the close McLaren battle between champ Alonso and rookie Hamilton was won by Räikkonen in a Ferrari.\n",
    "- McLaren scored the most points in 2007 but were disqualified due to \"Spygate.\"\n",
    "- Ferrari had the most points in 2008 despite narrowly losing the drivers' championship to Hamilton.\n",
    "- Brawn dominated early '09, the first \"double diffuser\" year, then became Mercedes.\n",
    "- Red Bull hired Newey in 2006 and Vettel (to their \"b-team\" Toro Rosso) in 2007.\n",
    "- Vettel and Red Bull won all drivers' and constructors' championships from 2010 through 2013.\n",
    "- Mercedes won every constructor's championship since the \"turbo hybrid era\" began in 2014.\n",
    "- Hamilton won every drivers' championship of the \"turbo hybrid era\" except Rosberg's 2016 victory."
   ]
  },
  {
   "cell_type": "markdown",
   "metadata": {},
   "source": [
    "## take a closer look"
   ]
  },
  {
   "cell_type": "code",
   "execution_count": 8,
   "metadata": {},
   "outputs": [
    {
     "data": {
      "text/html": [
       "<div>\n",
       "<style scoped>\n",
       "    .dataframe tbody tr th:only-of-type {\n",
       "        vertical-align: middle;\n",
       "    }\n",
       "\n",
       "    .dataframe tbody tr th {\n",
       "        vertical-align: top;\n",
       "    }\n",
       "\n",
       "    .dataframe thead th {\n",
       "        text-align: right;\n",
       "    }\n",
       "</style>\n",
       "<table border=\"1\" class=\"dataframe\">\n",
       "  <thead>\n",
       "    <tr style=\"text-align: right;\">\n",
       "      <th>team</th>\n",
       "      <th>BAR</th>\n",
       "      <th>Ferrari</th>\n",
       "      <th>McLaren</th>\n",
       "      <th>Renault</th>\n",
       "      <th>Williams</th>\n",
       "      <th>Sauber</th>\n",
       "      <th>Jaguar</th>\n",
       "      <th>Jordan</th>\n",
       "      <th>Toyota</th>\n",
       "      <th>Minardi</th>\n",
       "    </tr>\n",
       "    <tr>\n",
       "      <th>race</th>\n",
       "      <th></th>\n",
       "      <th></th>\n",
       "      <th></th>\n",
       "      <th></th>\n",
       "      <th></th>\n",
       "      <th></th>\n",
       "      <th></th>\n",
       "      <th></th>\n",
       "      <th></th>\n",
       "      <th></th>\n",
       "    </tr>\n",
       "  </thead>\n",
       "  <tbody>\n",
       "    <tr>\n",
       "      <th>Australian Grand Prix</th>\n",
       "      <td>3.0</td>\n",
       "      <td>18.0</td>\n",
       "      <td>1.0</td>\n",
       "      <td>8.0</td>\n",
       "      <td>9.0</td>\n",
       "      <td>0.0</td>\n",
       "      <td>0.0</td>\n",
       "      <td>0.0</td>\n",
       "      <td>0.0</td>\n",
       "      <td>0.0</td>\n",
       "    </tr>\n",
       "    <tr>\n",
       "      <th>Malaysian Grand Prix</th>\n",
       "      <td>6.0</td>\n",
       "      <td>15.0</td>\n",
       "      <td>3.0</td>\n",
       "      <td>6.0</td>\n",
       "      <td>8.0</td>\n",
       "      <td>1.0</td>\n",
       "      <td>0.0</td>\n",
       "      <td>0.0</td>\n",
       "      <td>0.0</td>\n",
       "      <td>0.0</td>\n",
       "    </tr>\n",
       "    <tr>\n",
       "      <th>Bahrain Grand Prix</th>\n",
       "      <td>10.0</td>\n",
       "      <td>18.0</td>\n",
       "      <td>0.0</td>\n",
       "      <td>8.0</td>\n",
       "      <td>2.0</td>\n",
       "      <td>0.0</td>\n",
       "      <td>1.0</td>\n",
       "      <td>0.0</td>\n",
       "      <td>0.0</td>\n",
       "      <td>0.0</td>\n",
       "    </tr>\n",
       "    <tr>\n",
       "      <th>San Marino Grand Prix</th>\n",
       "      <td>8.0</td>\n",
       "      <td>13.0</td>\n",
       "      <td>1.0</td>\n",
       "      <td>9.0</td>\n",
       "      <td>8.0</td>\n",
       "      <td>0.0</td>\n",
       "      <td>0.0</td>\n",
       "      <td>0.0</td>\n",
       "      <td>0.0</td>\n",
       "      <td>0.0</td>\n",
       "    </tr>\n",
       "    <tr>\n",
       "      <th>Spanish Grand Prix</th>\n",
       "      <td>5.0</td>\n",
       "      <td>18.0</td>\n",
       "      <td>0.0</td>\n",
       "      <td>11.0</td>\n",
       "      <td>3.0</td>\n",
       "      <td>2.0</td>\n",
       "      <td>0.0</td>\n",
       "      <td>0.0</td>\n",
       "      <td>0.0</td>\n",
       "      <td>0.0</td>\n",
       "    </tr>\n",
       "  </tbody>\n",
       "</table>\n",
       "</div>"
      ],
      "text/plain": [
       "team                    BAR  Ferrari  McLaren  Renault  Williams  Sauber  \\\n",
       "race                                                                       \n",
       "Australian Grand Prix   3.0     18.0      1.0      8.0       9.0     0.0   \n",
       "Malaysian Grand Prix    6.0     15.0      3.0      6.0       8.0     1.0   \n",
       "Bahrain Grand Prix     10.0     18.0      0.0      8.0       2.0     0.0   \n",
       "San Marino Grand Prix   8.0     13.0      1.0      9.0       8.0     0.0   \n",
       "Spanish Grand Prix      5.0     18.0      0.0     11.0       3.0     2.0   \n",
       "\n",
       "team                   Jaguar  Jordan  Toyota  Minardi  \n",
       "race                                                    \n",
       "Australian Grand Prix     0.0     0.0     0.0      0.0  \n",
       "Malaysian Grand Prix      0.0     0.0     0.0      0.0  \n",
       "Bahrain Grand Prix        1.0     0.0     0.0      0.0  \n",
       "San Marino Grand Prix     0.0     0.0     0.0      0.0  \n",
       "Spanish Grand Prix        0.0     0.0     0.0      0.0  "
      ]
     },
     "execution_count": 8,
     "metadata": {},
     "output_type": "execute_result"
    }
   ],
   "source": [
    "oneyear = (\n",
    "    points.set_index('date').loc['2004']\n",
    "    .loc[lambda df: df['points'] > 0]\n",
    "    .sort_values('date')\n",
    "    .groupby(['race', 'team'], sort=False)\n",
    "    ['points'].sum().unstack(fill_value=0)\n",
    ")\n",
    "oneyear.head()"
   ]
  },
  {
   "cell_type": "code",
   "execution_count": 9,
   "metadata": {
    "scrolled": false
   },
   "outputs": [
    {
     "data": {
      "text/plain": [
       "<matplotlib.axes._subplots.AxesSubplot at 0x7f6ec40f19d0>"
      ]
     },
     "execution_count": 9,
     "metadata": {},
     "output_type": "execute_result"
    },
    {
     "data": {
      "image/png": "[encoded data removed]",
      "text/plain": [
       "<Figure size 864x432 with 1 Axes>"
      ]
     },
     "metadata": {
      "needs_background": "light"
     },
     "output_type": "display_data"
    }
   ],
   "source": [
    "plot.bar(oneyear, color=oneyear.columns.map(color), title='2004', ylabel='points')"
   ]
  },
  {
   "cell_type": "code",
   "execution_count": null,
   "metadata": {},
   "outputs": [],
   "source": []
  },
  {
   "cell_type": "code",
   "execution_count": null,
   "metadata": {},
   "outputs": [],
   "source": []
  },
  {
   "cell_type": "code",
   "execution_count": null,
   "metadata": {},
   "outputs": [],
   "source": []
  },
  {
   "cell_type": "code",
   "execution_count": null,
   "metadata": {},
   "outputs": [],
   "source": []
  },
  {
   "cell_type": "code",
   "execution_count": null,
   "metadata": {},
   "outputs": [],
   "source": []
  },
  {
   "cell_type": "code",
   "execution_count": null,
   "metadata": {},
   "outputs": [],
   "source": []
  },
  {
   "cell_type": "code",
   "execution_count": null,
   "metadata": {},
   "outputs": [],
   "source": []
  },
  {
   "cell_type": "code",
   "execution_count": null,
   "metadata": {},
   "outputs": [],
   "source": []
  },
  {
   "cell_type": "code",
   "execution_count": null,
   "metadata": {},
   "outputs": [],
   "source": []
  },
  {
   "cell_type": "code",
   "execution_count": null,
   "metadata": {},
   "outputs": [],
   "source": []
  },
  {
   "cell_type": "code",
   "execution_count": null,
   "metadata": {},
   "outputs": [],
   "source": []
  },
  {
   "cell_type": "code",
   "execution_count": null,
   "metadata": {},
   "outputs": [],
   "source": []
  },
  {
   "cell_type": "code",
   "execution_count": null,
   "metadata": {},
   "outputs": [],
   "source": []
  },
  {
   "cell_type": "code",
   "execution_count": null,
   "metadata": {},
   "outputs": [],
   "source": []
  },
  {
   "cell_type": "code",
   "execution_count": null,
   "metadata": {},
   "outputs": [],
   "source": []
  },
  {
   "cell_type": "code",
   "execution_count": null,
   "metadata": {},
   "outputs": [],
   "source": []
  },
  {
   "cell_type": "code",
   "execution_count": null,
   "metadata": {},
   "outputs": [],
   "source": []
  },
  {
   "cell_type": "code",
   "execution_count": null,
   "metadata": {},
   "outputs": [],
   "source": []
  },
  {
   "cell_type": "code",
   "execution_count": null,
   "metadata": {},
   "outputs": [],
   "source": []
  },
  {
   "cell_type": "code",
   "execution_count": null,
   "metadata": {},
   "outputs": [],
   "source": []
  },
  {
   "cell_type": "code",
   "execution_count": null,
   "metadata": {},
   "outputs": [],
   "source": []
  },
  {
   "cell_type": "code",
   "execution_count": null,
   "metadata": {},
   "outputs": [],
   "source": []
  },
  {
   "cell_type": "code",
   "execution_count": null,
   "metadata": {},
   "outputs": [],
   "source": []
  },
  {
   "cell_type": "code",
   "execution_count": null,
   "metadata": {},
   "outputs": [],
   "source": []
  },
  {
   "cell_type": "code",
   "execution_count": null,
   "metadata": {},
   "outputs": [],
   "source": []
  }
 ],
 "metadata": {
  "kernelspec": {
   "display_name": "Python 3",
   "language": "python",
   "name": "python3"
  },
  "language_info": {
   "codemirror_mode": {
    "name": "ipython",
    "version": 3
   },
   "file_extension": ".py",
   "mimetype": "text/x-python",
   "name": "python",
   "nbconvert_exporter": "python",
   "pygments_lexer": "ipython3",
   "version": "3.7.5"
  }
 },
 "nbformat": 4,
 "nbformat_minor": 2
}
