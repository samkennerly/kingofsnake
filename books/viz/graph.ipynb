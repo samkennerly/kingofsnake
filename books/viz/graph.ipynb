{
 "cells": [
  {
   "cell_type": "code",
   "execution_count": 1,
   "metadata": {},
   "outputs": [
    {
     "data": {
      "application/javascript": [
       "IPython.notebook.set_autosave_interval(0)"
      ]
     },
     "metadata": {},
     "output_type": "display_data"
    },
    {
     "name": "stdout",
     "output_type": "stream",
     "text": [
      "Autosave disabled\n"
     ]
    }
   ],
   "source": [
    "%load_ext autoreload\n",
    "%autoreload 2\n",
    "%autosave 0"
   ]
  },
  {
   "cell_type": "code",
   "execution_count": 2,
   "metadata": {},
   "outputs": [],
   "source": [
    "from etl import DATADIR, ErgastF1"
   ]
  },
  {
   "cell_type": "code",
   "execution_count": 3,
   "metadata": {},
   "outputs": [
    {
     "data": {
      "text/plain": [
       "ErgastF1(path=/context/data/ergast/f1.zip)"
      ]
     },
     "execution_count": 3,
     "metadata": {},
     "output_type": "execute_result"
    }
   ],
   "source": [
    "self = ErgastF1(DATADIR / 'ergast/f1.zip')\n",
    "self"
   ]
  },
  {
   "cell_type": "code",
   "execution_count": 4,
   "metadata": {
    "scrolled": false
   },
   "outputs": [
    {
     "data": {
      "text/html": [
       "<div>\n",
       "<style scoped>\n",
       "    .dataframe tbody tr th:only-of-type {\n",
       "        vertical-align: middle;\n",
       "    }\n",
       "\n",
       "    .dataframe tbody tr th {\n",
       "        vertical-align: top;\n",
       "    }\n",
       "\n",
       "    .dataframe thead th {\n",
       "        text-align: right;\n",
       "    }\n",
       "</style>\n",
       "<table border=\"1\" class=\"dataframe\">\n",
       "  <thead>\n",
       "    <tr style=\"text-align: right;\">\n",
       "      <th></th>\n",
       "      <th>season</th>\n",
       "      <th>race</th>\n",
       "      <th>team</th>\n",
       "      <th>source</th>\n",
       "      <th>target</th>\n",
       "    </tr>\n",
       "  </thead>\n",
       "  <tbody>\n",
       "    <tr>\n",
       "      <th>0</th>\n",
       "      <td>1950</td>\n",
       "      <td>British Grand Prix</td>\n",
       "      <td>ERA</td>\n",
       "      <td>Bob Gerard</td>\n",
       "      <td>Cuth Harrison</td>\n",
       "    </tr>\n",
       "    <tr>\n",
       "      <th>1</th>\n",
       "      <td>1950</td>\n",
       "      <td>British Grand Prix</td>\n",
       "      <td>ERA</td>\n",
       "      <td>Bob Gerard</td>\n",
       "      <td>Leslie Johnson</td>\n",
       "    </tr>\n",
       "    <tr>\n",
       "      <th>2</th>\n",
       "      <td>1950</td>\n",
       "      <td>British Grand Prix</td>\n",
       "      <td>ERA</td>\n",
       "      <td>Bob Gerard</td>\n",
       "      <td>Peter Walker</td>\n",
       "    </tr>\n",
       "    <tr>\n",
       "      <th>3</th>\n",
       "      <td>1950</td>\n",
       "      <td>British Grand Prix</td>\n",
       "      <td>ERA</td>\n",
       "      <td>Bob Gerard</td>\n",
       "      <td>Tony Rolt</td>\n",
       "    </tr>\n",
       "    <tr>\n",
       "      <th>4</th>\n",
       "      <td>1950</td>\n",
       "      <td>British Grand Prix</td>\n",
       "      <td>ERA</td>\n",
       "      <td>Cuth Harrison</td>\n",
       "      <td>Bob Gerard</td>\n",
       "    </tr>\n",
       "    <tr>\n",
       "      <th>...</th>\n",
       "      <td>...</td>\n",
       "      <td>...</td>\n",
       "      <td>...</td>\n",
       "      <td>...</td>\n",
       "      <td>...</td>\n",
       "    </tr>\n",
       "    <tr>\n",
       "      <th>9983</th>\n",
       "      <td>2019</td>\n",
       "      <td>Australian Grand Prix</td>\n",
       "      <td>Red Bull</td>\n",
       "      <td>Pierre Gasly</td>\n",
       "      <td>Max Verstappen</td>\n",
       "    </tr>\n",
       "    <tr>\n",
       "      <th>9984</th>\n",
       "      <td>2019</td>\n",
       "      <td>Belgian Grand Prix</td>\n",
       "      <td>Red Bull</td>\n",
       "      <td>Alexander Albon</td>\n",
       "      <td>Max Verstappen</td>\n",
       "    </tr>\n",
       "    <tr>\n",
       "      <th>9985</th>\n",
       "      <td>2019</td>\n",
       "      <td>Belgian Grand Prix</td>\n",
       "      <td>Red Bull</td>\n",
       "      <td>Max Verstappen</td>\n",
       "      <td>Alexander Albon</td>\n",
       "    </tr>\n",
       "    <tr>\n",
       "      <th>9986</th>\n",
       "      <td>2019</td>\n",
       "      <td>Belgian Grand Prix</td>\n",
       "      <td>Toro Rosso</td>\n",
       "      <td>Daniil Kvyat</td>\n",
       "      <td>Pierre Gasly</td>\n",
       "    </tr>\n",
       "    <tr>\n",
       "      <th>9987</th>\n",
       "      <td>2019</td>\n",
       "      <td>Belgian Grand Prix</td>\n",
       "      <td>Toro Rosso</td>\n",
       "      <td>Pierre Gasly</td>\n",
       "      <td>Daniil Kvyat</td>\n",
       "    </tr>\n",
       "  </tbody>\n",
       "</table>\n",
       "<p>9988 rows × 5 columns</p>\n",
       "</div>"
      ],
      "text/plain": [
       "      season                   race        team           source  \\\n",
       "0       1950     British Grand Prix         ERA       Bob Gerard   \n",
       "1       1950     British Grand Prix         ERA       Bob Gerard   \n",
       "2       1950     British Grand Prix         ERA       Bob Gerard   \n",
       "3       1950     British Grand Prix         ERA       Bob Gerard   \n",
       "4       1950     British Grand Prix         ERA    Cuth Harrison   \n",
       "...      ...                    ...         ...              ...   \n",
       "9983    2019  Australian Grand Prix    Red Bull     Pierre Gasly   \n",
       "9984    2019     Belgian Grand Prix    Red Bull  Alexander Albon   \n",
       "9985    2019     Belgian Grand Prix    Red Bull   Max Verstappen   \n",
       "9986    2019     Belgian Grand Prix  Toro Rosso     Daniil Kvyat   \n",
       "9987    2019     Belgian Grand Prix  Toro Rosso     Pierre Gasly   \n",
       "\n",
       "               target  \n",
       "0       Cuth Harrison  \n",
       "1      Leslie Johnson  \n",
       "2        Peter Walker  \n",
       "3           Tony Rolt  \n",
       "4          Bob Gerard  \n",
       "...               ...  \n",
       "9983   Max Verstappen  \n",
       "9984   Max Verstappen  \n",
       "9985  Alexander Albon  \n",
       "9986     Pierre Gasly  \n",
       "9987     Daniil Kvyat  \n",
       "\n",
       "[9988 rows x 5 columns]"
      ]
     },
     "execution_count": 4,
     "metadata": {},
     "output_type": "execute_result"
    }
   ],
   "source": [
    "from itertools import permutations\n",
    "from pandas import DataFrame\n",
    "\n",
    "f1 = self\n",
    "\n",
    "cols = 'season race team source target'.split()\n",
    "data = (\n",
    "    self.results\n",
    "    .join(f1.races['season round race'.split()], on='id_race')\n",
    "    .join(f1.drivers['driver'], on='id_driver')\n",
    "    .join(f1.teams['team'], on='id_team')\n",
    "    .sort_values('season round driver'.split())\n",
    "    .groupby('season race team'.split(), sort=False)\n",
    "    ['driver']\n",
    ")\n",
    "data = ( (*k, *x) for k,v in data for x in permutations(v,2) )\n",
    "data = (\n",
    "    DataFrame(data, columns='season race team source target'.split())\n",
    "    .drop_duplicates(subset='source target'.split())\n",
    "    .reset_index(drop=True)\n",
    ")\n",
    "data"
   ]
  },
  {
   "cell_type": "code",
   "execution_count": 9,
   "metadata": {
    "scrolled": false
   },
   "outputs": [
    {
     "name": "stdout",
     "output_type": "stream",
     "text": [
      "1 Martin Brundle\n",
      "11 drivers not connected\n",
      "789 drivers within 7 degrees\n"
     ]
    },
    {
     "data": {
      "text/plain": [
       "Bob Gerard         4\n",
       "Cuth Harrison      5\n",
       "Leslie Johnson     5\n",
       "Peter Walker       5\n",
       "Tony Rolt          5\n",
       "                  ..\n",
       "Charles Leclerc    5\n",
       "Sergey Sirotkin    4\n",
       "Alexander Albon    5\n",
       "Lando Norris       4\n",
       "George Russell     5\n",
       "Length: 801, dtype: int64"
      ]
     },
     "execution_count": 9,
     "metadata": {},
     "output_type": "execute_result"
    }
   ],
   "source": [
    "from pandas import Series\n",
    "\n",
    "core = 'Martin Brundle'\n",
    "source = data['source']\n",
    "target = data['target']\n",
    "degree = Series(-1, index=source.unique())\n",
    "\n",
    "mates = {core}\n",
    "for i in range(10):\n",
    "    degree[mates] = i\n",
    "    mates = set(target[source.isin(mates)])\n",
    "    mates -= set(degree[degree.ne(-1)].index)\n",
    "\n",
    "print(f\"{degree.eq(0).sum()} {core}\")\n",
    "print(f\"{degree.eq(-1).sum()} drivers not connected\")\n",
    "print(f\"{degree.gt(0).sum()} drivers within {degree.max()} degrees\")\n",
    "\n",
    "degree"
   ]
  },
  {
   "cell_type": "code",
   "execution_count": 10,
   "metadata": {},
   "outputs": [
    {
     "data": {
      "text/plain": [
       "3"
      ]
     },
     "execution_count": 10,
     "metadata": {},
     "output_type": "execute_result"
    }
   ],
   "source": [
    "degree['Kimi Räikkönen']"
   ]
  },
  {
   "cell_type": "code",
   "execution_count": null,
   "metadata": {},
   "outputs": [],
   "source": []
  },
  {
   "cell_type": "code",
   "execution_count": null,
   "metadata": {},
   "outputs": [],
   "source": []
  }
 ],
 "metadata": {
  "kernelspec": {
   "display_name": "Python 3",
   "language": "python",
   "name": "python3"
  },
  "language_info": {
   "codemirror_mode": {
    "name": "ipython",
    "version": 3
   },
   "file_extension": ".py",
   "mimetype": "text/x-python",
   "name": "python",
   "nbconvert_exporter": "python",
   "pygments_lexer": "ipython3",
   "version": "3.7.5"
  }
 },
 "nbformat": 4,
 "nbformat_minor": 2
}
