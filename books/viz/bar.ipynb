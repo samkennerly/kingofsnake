{
 "cells": [
  {
   "cell_type": "markdown",
   "metadata": {},
   "source": [
    "# Total Competition\n",
    "Example stacked bar plots with Formula 1 data from https://ergast.com/mrd/db"
   ]
  },
  {
   "cell_type": "code",
   "execution_count": 1,
   "metadata": {},
   "outputs": [
    {
     "data": {
      "application/javascript": [
       "IPython.notebook.set_autosave_interval(0)"
      ]
     },
     "metadata": {},
     "output_type": "display_data"
    },
    {
     "name": "stdout",
     "output_type": "stream",
     "text": [
      "Autosave disabled\n"
     ]
    }
   ],
   "source": [
    "%autosave 0"
   ]
  },
  {
   "cell_type": "code",
   "execution_count": 2,
   "metadata": {},
   "outputs": [],
   "source": [
    "from etl import DATADIR, ErgastF1\n",
    "from viz import Plot"
   ]
  },
  {
   "cell_type": "code",
   "execution_count": 3,
   "metadata": {},
   "outputs": [],
   "source": [
    "f1 = ErgastF1(DATADIR / 'ergast/f1.zip')\n",
    "plot = Plot()"
   ]
  },
  {
   "cell_type": "markdown",
   "metadata": {},
   "source": [
    "### What % of points went to each team on each year?"
   ]
  },
  {
   "cell_type": "code",
   "execution_count": 4,
   "metadata": {},
   "outputs": [
    {
     "name": "stdout",
     "output_type": "stream",
     "text": [
      "30 rows x 39 cols\n"
     ]
    },
    {
     "data": {
      "text/html": [
       "<div>\n",
       "<style scoped>\n",
       "    .dataframe tbody tr th:only-of-type {\n",
       "        vertical-align: middle;\n",
       "    }\n",
       "\n",
       "    .dataframe tbody tr th {\n",
       "        vertical-align: top;\n",
       "    }\n",
       "\n",
       "    .dataframe thead th {\n",
       "        text-align: right;\n",
       "    }\n",
       "</style>\n",
       "<table border=\"1\" class=\"dataframe\">\n",
       "  <thead>\n",
       "    <tr style=\"text-align: right;\">\n",
       "      <th>team</th>\n",
       "      <th>Alfa Romeo</th>\n",
       "      <th>Arrows</th>\n",
       "      <th>BAR</th>\n",
       "      <th>BMW Sauber</th>\n",
       "      <th>Benetton</th>\n",
       "      <th>Brabham</th>\n",
       "      <th>Brawn</th>\n",
       "      <th>Dallara</th>\n",
       "      <th>Ferrari</th>\n",
       "      <th>Footwork</th>\n",
       "      <th>...</th>\n",
       "      <th>Renault</th>\n",
       "      <th>Sauber</th>\n",
       "      <th>Spyker</th>\n",
       "      <th>Stewart</th>\n",
       "      <th>Super Aguri</th>\n",
       "      <th>Team Lotus</th>\n",
       "      <th>Toro Rosso</th>\n",
       "      <th>Toyota</th>\n",
       "      <th>Tyrrell</th>\n",
       "      <th>Williams</th>\n",
       "    </tr>\n",
       "    <tr>\n",
       "      <th>year</th>\n",
       "      <th></th>\n",
       "      <th></th>\n",
       "      <th></th>\n",
       "      <th></th>\n",
       "      <th></th>\n",
       "      <th></th>\n",
       "      <th></th>\n",
       "      <th></th>\n",
       "      <th></th>\n",
       "      <th></th>\n",
       "      <th></th>\n",
       "      <th></th>\n",
       "      <th></th>\n",
       "      <th></th>\n",
       "      <th></th>\n",
       "      <th></th>\n",
       "      <th></th>\n",
       "      <th></th>\n",
       "      <th></th>\n",
       "      <th></th>\n",
       "      <th></th>\n",
       "    </tr>\n",
       "  </thead>\n",
       "  <tbody>\n",
       "    <tr>\n",
       "      <th>1990</th>\n",
       "      <td>0.0</td>\n",
       "      <td>0.5</td>\n",
       "      <td>0.0</td>\n",
       "      <td>0.0</td>\n",
       "      <td>17.750000</td>\n",
       "      <td>0.500000</td>\n",
       "      <td>0.0</td>\n",
       "      <td>0.000000</td>\n",
       "      <td>27.500000</td>\n",
       "      <td>0.000000</td>\n",
       "      <td>...</td>\n",
       "      <td>0.0</td>\n",
       "      <td>0.000000</td>\n",
       "      <td>0.0</td>\n",
       "      <td>0.0</td>\n",
       "      <td>0.0</td>\n",
       "      <td>0.750000</td>\n",
       "      <td>0.0</td>\n",
       "      <td>0.0</td>\n",
       "      <td>4.000000</td>\n",
       "      <td>14.250000</td>\n",
       "    </tr>\n",
       "    <tr>\n",
       "      <th>1991</th>\n",
       "      <td>0.0</td>\n",
       "      <td>0.0</td>\n",
       "      <td>0.0</td>\n",
       "      <td>0.0</td>\n",
       "      <td>9.553350</td>\n",
       "      <td>0.744417</td>\n",
       "      <td>0.0</td>\n",
       "      <td>1.240695</td>\n",
       "      <td>13.771712</td>\n",
       "      <td>0.000000</td>\n",
       "      <td>...</td>\n",
       "      <td>0.0</td>\n",
       "      <td>0.000000</td>\n",
       "      <td>0.0</td>\n",
       "      <td>0.0</td>\n",
       "      <td>0.0</td>\n",
       "      <td>0.744417</td>\n",
       "      <td>0.0</td>\n",
       "      <td>0.0</td>\n",
       "      <td>2.977667</td>\n",
       "      <td>31.017370</td>\n",
       "    </tr>\n",
       "    <tr>\n",
       "      <th>1992</th>\n",
       "      <td>0.0</td>\n",
       "      <td>0.0</td>\n",
       "      <td>0.0</td>\n",
       "      <td>0.0</td>\n",
       "      <td>21.875000</td>\n",
       "      <td>0.000000</td>\n",
       "      <td>0.0</td>\n",
       "      <td>0.480769</td>\n",
       "      <td>5.048077</td>\n",
       "      <td>1.442308</td>\n",
       "      <td>...</td>\n",
       "      <td>0.0</td>\n",
       "      <td>0.000000</td>\n",
       "      <td>0.0</td>\n",
       "      <td>0.0</td>\n",
       "      <td>0.0</td>\n",
       "      <td>3.125000</td>\n",
       "      <td>0.0</td>\n",
       "      <td>0.0</td>\n",
       "      <td>1.923077</td>\n",
       "      <td>39.423077</td>\n",
       "    </tr>\n",
       "    <tr>\n",
       "      <th>1993</th>\n",
       "      <td>0.0</td>\n",
       "      <td>0.0</td>\n",
       "      <td>0.0</td>\n",
       "      <td>0.0</td>\n",
       "      <td>17.307692</td>\n",
       "      <td>0.000000</td>\n",
       "      <td>0.0</td>\n",
       "      <td>0.000000</td>\n",
       "      <td>6.730769</td>\n",
       "      <td>0.961538</td>\n",
       "      <td>...</td>\n",
       "      <td>0.0</td>\n",
       "      <td>2.884615</td>\n",
       "      <td>0.0</td>\n",
       "      <td>0.0</td>\n",
       "      <td>0.0</td>\n",
       "      <td>2.884615</td>\n",
       "      <td>0.0</td>\n",
       "      <td>0.0</td>\n",
       "      <td>0.000000</td>\n",
       "      <td>40.384615</td>\n",
       "    </tr>\n",
       "    <tr>\n",
       "      <th>1994</th>\n",
       "      <td>0.0</td>\n",
       "      <td>0.0</td>\n",
       "      <td>0.0</td>\n",
       "      <td>0.0</td>\n",
       "      <td>24.759615</td>\n",
       "      <td>0.000000</td>\n",
       "      <td>0.0</td>\n",
       "      <td>0.000000</td>\n",
       "      <td>17.067308</td>\n",
       "      <td>2.163462</td>\n",
       "      <td>...</td>\n",
       "      <td>0.0</td>\n",
       "      <td>2.884615</td>\n",
       "      <td>0.0</td>\n",
       "      <td>0.0</td>\n",
       "      <td>0.0</td>\n",
       "      <td>0.000000</td>\n",
       "      <td>0.0</td>\n",
       "      <td>0.0</td>\n",
       "      <td>3.125000</td>\n",
       "      <td>28.365385</td>\n",
       "    </tr>\n",
       "  </tbody>\n",
       "</table>\n",
       "<p>5 rows × 39 columns</p>\n",
       "</div>"
      ],
      "text/plain": [
       "team  Alfa Romeo  Arrows  BAR  BMW Sauber   Benetton   Brabham  Brawn  \\\n",
       "year                                                                    \n",
       "1990         0.0     0.5  0.0         0.0  17.750000  0.500000    0.0   \n",
       "1991         0.0     0.0  0.0         0.0   9.553350  0.744417    0.0   \n",
       "1992         0.0     0.0  0.0         0.0  21.875000  0.000000    0.0   \n",
       "1993         0.0     0.0  0.0         0.0  17.307692  0.000000    0.0   \n",
       "1994         0.0     0.0  0.0         0.0  24.759615  0.000000    0.0   \n",
       "\n",
       "team   Dallara    Ferrari  Footwork  ...  Renault    Sauber  Spyker  Stewart  \\\n",
       "year                                 ...                                       \n",
       "1990  0.000000  27.500000  0.000000  ...      0.0  0.000000     0.0      0.0   \n",
       "1991  1.240695  13.771712  0.000000  ...      0.0  0.000000     0.0      0.0   \n",
       "1992  0.480769   5.048077  1.442308  ...      0.0  0.000000     0.0      0.0   \n",
       "1993  0.000000   6.730769  0.961538  ...      0.0  2.884615     0.0      0.0   \n",
       "1994  0.000000  17.067308  2.163462  ...      0.0  2.884615     0.0      0.0   \n",
       "\n",
       "team  Super Aguri  Team Lotus  Toro Rosso  Toyota   Tyrrell   Williams  \n",
       "year                                                                    \n",
       "1990          0.0    0.750000         0.0     0.0  4.000000  14.250000  \n",
       "1991          0.0    0.744417         0.0     0.0  2.977667  31.017370  \n",
       "1992          0.0    3.125000         0.0     0.0  1.923077  39.423077  \n",
       "1993          0.0    2.884615         0.0     0.0  0.000000  40.384615  \n",
       "1994          0.0    0.000000         0.0     0.0  3.125000  28.365385  \n",
       "\n",
       "[5 rows x 39 columns]"
      ]
     },
     "execution_count": 4,
     "metadata": {},
     "output_type": "execute_result"
    }
   ],
   "source": [
    "# Get team scores, race dates, and team names.\n",
    "# Count points for each (year, team) since 1990.\n",
    "data = (\n",
    "    f1.team_results\n",
    "    .loc[lambda df: df['points'] > 0]\n",
    "    .join(f1.races['date'], on='id_race')\n",
    "    .loc[lambda df: df['date'] > '1990']\n",
    "    .join(f1.teams['team'], on='id_team')\n",
    "    .groupby(['date', 'team'])\n",
    "    ['points'].sum().unstack(fill_value=0)\n",
    "    .resample('y').sum().rename_axis('year')\n",
    ")\n",
    "\n",
    "# Normalize each year's point total\n",
    "data = data.div(data.sum(axis=1), axis=0)\n",
    "\n",
    "# Convert units for easier reading\n",
    "data = 100 * data.set_index(data.index.year)\n",
    "\n",
    "# Is this table small enough yet?\n",
    "print(\"{} rows x {} cols\".format(*data.shape))\n",
    "data.head()"
   ]
  },
  {
   "cell_type": "markdown",
   "metadata": {},
   "source": [
    "### focus on a few teams"
   ]
  },
  {
   "cell_type": "code",
   "execution_count": 5,
   "metadata": {},
   "outputs": [
    {
     "name": "stdout",
     "output_type": "stream",
     "text": [
      "Ferrari Williams McLaren Mercedes Red Bull Benetton Renault Brawn BMW Sauber BAR Lotus F1 Jordan\n"
     ]
    }
   ],
   "source": [
    "# Too many columns makes the plot hard to read.\n",
    "top12 = data.max().nlargest(12).index\n",
    "data = data[top12]\n",
    "print(*data.columns)"
   ]
  },
  {
   "cell_type": "markdown",
   "metadata": {},
   "source": [
    "### team colors"
   ]
  },
  {
   "cell_type": "code",
   "execution_count": 6,
   "metadata": {},
   "outputs": [
    {
     "data": {
      "image/png": "[encoded data removed]",
      "text/plain": [
       "<Figure size 864x432 with 1 Axes>"
      ]
     },
     "metadata": {
      "needs_background": "light"
     },
     "output_type": "display_data"
    }
   ],
   "source": [
    "from collections import defaultdict\n",
    "\n",
    "color = {\n",
    "    'BAR': '#77bb77',\n",
    "    'Benetton': '#00bb00',\n",
    "    'BMW Sauber': '#bbbbbb',\n",
    "    'Brawn': '#77ff00',\n",
    "    'Ferrari': \"#ff0000\",\n",
    "    'McLaren': \"#ffbb00\",\n",
    "    'Mercedes': '#77ffff',\n",
    "    'Red Bull': '#330077',\n",
    "    'Renault': '#00bbff',\n",
    "    'Williams': '#0000ff',\n",
    "    'Jordan': '#ffff00'\n",
    "}\n",
    "color = defaultdict(lambda: \"#000000\", color)\n",
    "\n",
    "kw = dict()\n",
    "kw['color'] = data.columns.map(color)\n",
    "kw['title'] = 'team points since 1990'\n",
    "kw['ylabel'] = '% of all points'\n",
    "axes = plot.bar(data, **kw)"
   ]
  },
  {
   "cell_type": "markdown",
   "metadata": {},
   "source": [
    "### historical notes\n",
    "\n",
    "#### 1986-1991: Honda Power\n",
    "- Honda engines powered every 1986-1991 constructors' champion.\n",
    "- McLaren-Honda won every 1988-1991 constructors' championship from 1988-1991.\n",
    "- Senna won every 1988-1991 drivers' championship except 1989 (Prost).\n",
    "- Prost left McLaren in 1990. Honda left F1 in 1993.\n",
    "\n",
    "#### 1992-2004: Schuey vs. Newey\n",
    "- In 1991, Michael Schumacher joined Benetton and Adrian Newey joined Williams.\n",
    "- Safety rules changed mid-1994 after Senna and Ratzenberger suffered fatal accidents.\n",
    "- The Michael won every drivers' championship from 1994-2004 except 1996 (Hill) and 1997 (Villeneuve).\n",
    "- The Michael moved to Ferrari in 1996. Ross Brawn and several Benetton engineers joined him in 1997.\n",
    "- Newey joined McLaren-Mercedes in 1997 after one year of \"gardening leave.\"\n",
    "- Häkkinen won 1998-1999 drivers' championships driving for McLaren-Mercedes.\n",
    "- Ferrari won half of all points in 2002 and all 2000-2004 constructors' championships.\n",
    "\n",
    "#### 2005-2009:  Challengers Appear\n",
    "- Ferrari suffered under the \"one tire rule\" in 2005 except at Indianapolis.\n",
    "- Alonso won the 2005 and 2006 drivers' championships with Renault, then moved to McLaren-Mercedes.\n",
    "- McLaren's drivers, champ Alonso and rookie Hamilton, battled in 2007. Räikkonen won in a Ferrari.\n",
    "- McLaren scored the most points in 2007 but were disqualified due to \"Spygate.\"\n",
    "- Ferrari won the 2008 constructors championship, but Hamilton won the drivers' in a McLaren-Mercedes.\n",
    "- Brawn won the 2009 constructors' championship in their first year, then became Mercedes.\n",
    "- Button won the 2009 drivers' championship, then moved to McLaren.\n",
    "\n",
    "#### 2010-2013: They Gave Seb Wings\n",
    "- Red Bull hired Newey in 2006 and Vettel (to their \"b-team\" Toro Rosso) in 2007.\n",
    "- Vettel and Red Bull won all 2010-2013 drivers' and constructors' championships.\n",
    "\n",
    "#### 2014-???: Hammer Time\n",
    "- Mercedes won every constructor's championship of the \"turbo hybrid era\" since 2014.\n",
    "- Hamilton won every drivers' championship since 2014 except 2016 (Rosberg)."
   ]
  },
  {
   "cell_type": "markdown",
   "metadata": {},
   "source": [
    "## show all races for 1 year"
   ]
  },
  {
   "cell_type": "code",
   "execution_count": 7,
   "metadata": {},
   "outputs": [
    {
     "data": {
      "image/png": "[encoded data removed]",
      "text/plain": [
       "<Figure size 864x432 with 1 Axes>"
      ]
     },
     "metadata": {
      "needs_background": "light"
     },
     "output_type": "display_data"
    }
   ],
   "source": [
    "# Get team scores, race dates, race names, and team names.\n",
    "# Count points for each (race, team) in 2004.\n",
    "data = (\n",
    "    f1.team_results\n",
    "    .loc[lambda df: df['points'] > 0]\n",
    "    .join(f1.races[['date', 'race']], on='id_race')\n",
    "    .set_index('date').loc['2004'].sort_index()\n",
    "    .join(f1.teams['team'], on='id_team')\n",
    "    .groupby(['race', 'team'], sort=False)\n",
    "    ['points'].sum().unstack(fill_value=0)\n",
    ")\n",
    "# Re-use the existing colors.\n",
    "kw = dict()\n",
    "kw['color'] = data.columns.map(color)\n",
    "kw['title'] = 'team points (2004)'\n",
    "kw['ylabel'] = 'points'\n",
    "axes = plot.bar(data, **kw)"
   ]
  }
 ],
 "metadata": {
  "kernelspec": {
   "display_name": "Python 3",
   "language": "python",
   "name": "python3"
  },
  "language_info": {
   "codemirror_mode": {
    "name": "ipython",
    "version": 3
   },
   "file_extension": ".py",
   "mimetype": "text/x-python",
   "name": "python",
   "nbconvert_exporter": "python",
   "pygments_lexer": "ipython3",
   "version": "3.7.5"
  }
 },
 "nbformat": 4,
 "nbformat_minor": 2
}
