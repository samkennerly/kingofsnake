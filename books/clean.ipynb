{
 "cells": [
  {
   "cell_type": "markdown",
   "id": "7170dfa3-484c-4f3d-bc8c-b5160c318c64",
   "metadata": {},
   "source": [
    "# clean\n",
    "\n",
    "Example data-cleaning tasks."
   ]
  },
  {
   "cell_type": "code",
   "execution_count": null,
   "id": "7b7a3e6c-eb12-467b-8c6e-bfdfc3338287",
   "metadata": {},
   "outputs": [],
   "source": [
    "import pandas\n",
    "import tools"
   ]
  },
  {
   "cell_type": "code",
   "execution_count": null,
   "id": "d27a7951-f765-4bfb-a3d5-aacb44b709ce",
   "metadata": {},
   "outputs": [],
   "source": [
    "# input and output filenames as pathlib.Path objects\n",
    "CLEAN = tools.DATADIR / 'clean/energy.csv'\n",
    "DIRTY = tools.DATADIR / 'dirty/energy.csv'"
   ]
  },
  {
   "cell_type": "markdown",
   "id": "44e82d41-2676-44cf-9478-da58138c3a68",
   "metadata": {},
   "source": [
    "# UNDER CONSTRUCTION"
   ]
  },
  {
   "cell_type": "code",
   "execution_count": null,
   "id": "629ec1f9-637e-48c2-8470-b559a41f5f4a",
   "metadata": {},
   "outputs": [],
   "source": [
    "%load_ext autoreload\n",
    "%autoreload all"
   ]
  },
  {
   "cell_type": "markdown",
   "id": "118aa632-f0c6-44df-83bf-afd7c25407ae",
   "metadata": {},
   "source": [
    "## read from CSV"
   ]
  },
  {
   "cell_type": "code",
   "execution_count": null,
   "id": "847bf36b-1079-40d9-806e-20b2311cb736",
   "metadata": {},
   "outputs": [],
   "source": [
    "data = pandas.read_csv(DIRTY)\n",
    "data.info()"
   ]
  },
  {
   "cell_type": "markdown",
   "id": "743118c4-2ac9-440c-a66b-6efaadcc0f8a",
   "metadata": {},
   "source": [
    "## inspect some rows"
   ]
  },
  {
   "cell_type": "code",
   "execution_count": null,
   "id": "9e0fad3c-d3ac-49e7-9128-fe56d3366160",
   "metadata": {},
   "outputs": [],
   "source": [
    "data.head(10)"
   ]
  },
  {
   "cell_type": "code",
   "execution_count": null,
   "id": "75d2bab3-e34e-42bf-bf4d-99763adaac3a",
   "metadata": {},
   "outputs": [],
   "source": [
    "data.tail(10)"
   ]
  },
  {
   "cell_type": "code",
   "execution_count": null,
   "id": "6d1a9eda-768e-4df9-9bb4-79c6614238f6",
   "metadata": {},
   "outputs": [],
   "source": [
    "tools.afew(data)"
   ]
  },
  {
   "cell_type": "markdown",
   "id": "afacdcee-7d47-4622-b5ec-8941d66b3ddc",
   "metadata": {},
   "source": [
    "## simplify column names"
   ]
  },
  {
   "cell_type": "code",
   "execution_count": null,
   "id": "57629cf4-6a81-4d75-a871-779458daa7f9",
   "metadata": {},
   "outputs": [],
   "source": [
    "data.columns = (\n",
    "    data.columns\n",
    "    .str.strip()\n",
    "    .str.lower()\n",
    "    .str.replace(' ', '_')\n",
    "    .str.replace('.', '')\n",
    ")\n",
    "data = data.rename(\n",
    "    columns={\n",
    "        'net_imports': 'imports',\n",
    "        'petroleum': 'oil',\n",
    "    }\n",
    ")\n",
    "data = data.sort_index(axis=1)\n",
    "print(*data.columns, sep=\"\\n\")"
   ]
  },
  {
   "cell_type": "markdown",
   "id": "812bb04b-ce17-4432-8cb0-97be4ddd7a2a",
   "metadata": {},
   "source": [
    "## check for null values"
   ]
  },
  {
   "cell_type": "code",
   "execution_count": null,
   "id": "bd23f023-06f5-494f-a0b6-7c28868b0847",
   "metadata": {},
   "outputs": [],
   "source": [
    "data.isna().sum()"
   ]
  },
  {
   "cell_type": "markdown",
   "id": "3444f919-777d-44b2-9e23-fdb0ee69cdd5",
   "metadata": {},
   "source": [
    "## set an index column"
   ]
  },
  {
   "cell_type": "code",
   "execution_count": null,
   "id": "b78bacda-6c2d-4797-b573-9a84a6cecbaa",
   "metadata": {},
   "outputs": [],
   "source": [
    "data = data.set_index('year').astype('int64')\n",
    "data.index"
   ]
  },
  {
   "cell_type": "markdown",
   "id": "03ed1ab8-70e2-4bfa-afe4-fefc556e2509",
   "metadata": {},
   "source": [
    "## sort and shorten"
   ]
  },
  {
   "cell_type": "code",
   "execution_count": null,
   "id": "c7ddd006-8912-4db6-a2a3-a8843f9be959",
   "metadata": {},
   "outputs": [],
   "source": [
    "data = data.sort_index().loc['1990':]\n",
    "data.index"
   ]
  },
  {
   "cell_type": "markdown",
   "id": "04dcb0db-c5da-4992-819d-e591b21b264d",
   "metadata": {},
   "source": [
    "## consolidate columns"
   ]
  },
  {
   "cell_type": "code",
   "execution_count": null,
   "id": "c25f2e5f-d2f4-4c96-8f4e-4cfaf681c379",
   "metadata": {},
   "outputs": [],
   "source": [
    "del data['total']\n",
    "data['hydro'] = data.pop('conv_hydro') + data.pop('ps_hydro')\n",
    "data['gas'] = data.pop('lfg') + data.pop('natural_gas')\n",
    "data.sum()"
   ]
  },
  {
   "cell_type": "code",
   "execution_count": null,
   "id": "365a656c-e058-4261-bbf5-6afdb8ec55b3",
   "metadata": {},
   "outputs": [],
   "source": [
    "topcols = data.sum().nlargest(6).index\n",
    "topcols"
   ]
  },
  {
   "cell_type": "markdown",
   "id": "eca7c26c-88c0-415f-99ff-675085fe36bb",
   "metadata": {},
   "source": [
    "## convert datatypes"
   ]
  },
  {
   "cell_type": "code",
   "execution_count": null,
   "id": "c361e2cc-1878-4806-999d-be017962fc00",
   "metadata": {},
   "outputs": [],
   "source": [
    "floatcols = data.columns.drop('year')\n",
    "data[floatcols] = data[floatcols].astype('float64')\n",
    "data.info()"
   ]
  },
  {
   "cell_type": "markdown",
   "id": "a1bf3bfa-e949-4575-8f98-cb3e77db1761",
   "metadata": {},
   "source": [
    "## save to CSV"
   ]
  },
  {
   "cell_type": "code",
   "execution_count": null,
   "id": "4c0a73ee-457e-4c10-b957-bd40c0a5b53e",
   "metadata": {},
   "outputs": [],
   "source": []
  },
  {
   "cell_type": "code",
   "execution_count": null,
   "id": "ec8525f7-dd0d-40e4-8428-95bee26bd0d4",
   "metadata": {},
   "outputs": [],
   "source": []
  },
  {
   "cell_type": "code",
   "execution_count": null,
   "id": "79a49336-aeaf-4d71-b954-04b1c017b247",
   "metadata": {},
   "outputs": [],
   "source": []
  },
  {
   "cell_type": "code",
   "execution_count": null,
   "id": "ed7a4211-40c7-48ab-a3fa-32887202aba2",
   "metadata": {},
   "outputs": [],
   "source": [
    "\n"
   ]
  },
  {
   "cell_type": "code",
   "execution_count": null,
   "id": "22aaa8a5-1271-41d6-9eda-a9de6b70bcb5",
   "metadata": {},
   "outputs": [],
   "source": []
  },
  {
   "cell_type": "code",
   "execution_count": null,
   "id": "5a72a799-44a9-48e6-95b4-aa1ed482756d",
   "metadata": {},
   "outputs": [],
   "source": []
  },
  {
   "cell_type": "code",
   "execution_count": null,
   "id": "d19c0c4d-fee0-4f6f-8b3d-f8426fd847e6",
   "metadata": {},
   "outputs": [],
   "source": []
  },
  {
   "cell_type": "code",
   "execution_count": null,
   "id": "1fe5f53c-eb73-467b-ac63-767873a4e976",
   "metadata": {},
   "outputs": [],
   "source": []
  }
 ],
 "metadata": {
  "kernelspec": {
   "display_name": "Python 3 (ipykernel)",
   "language": "python",
   "name": "python3"
  },
  "language_info": {
   "codemirror_mode": {
    "name": "ipython",
    "version": 3
   },
   "file_extension": ".py",
   "mimetype": "text/x-python",
   "name": "python",
   "nbconvert_exporter": "python",
   "pygments_lexer": "ipython3",
   "version": "3.11.6"
  }
 },
 "nbformat": 4,
 "nbformat_minor": 5
}
