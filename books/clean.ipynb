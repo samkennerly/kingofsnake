{
 "cells": [
  {
   "cell_type": "markdown",
   "id": "7170dfa3-484c-4f3d-bc8c-b5160c318c64",
   "metadata": {},
   "source": [
    "# clean\n",
    "\n",
    "Example data-cleaning tasks:\n",
    "\n",
    "- read and save CSV files\n",
    "- normalize column names\n",
    "- standardize numerical features"
   ]
  },
  {
   "cell_type": "code",
   "execution_count": 1,
   "id": "7b7a3e6c-eb12-467b-8c6e-bfdfc3338287",
   "metadata": {},
   "outputs": [],
   "source": [
    "import tools"
   ]
  },
  {
   "cell_type": "markdown",
   "id": "44e82d41-2676-44cf-9478-da58138c3a68",
   "metadata": {},
   "source": [
    "# UNDER CONSTRUCTION"
   ]
  },
  {
   "cell_type": "code",
   "execution_count": 2,
   "id": "629ec1f9-637e-48c2-8470-b559a41f5f4a",
   "metadata": {},
   "outputs": [],
   "source": [
    "%load_ext autoreload\n",
    "%autoreload all\n",
    "\n",
    "from tools import *"
   ]
  },
  {
   "cell_type": "code",
   "execution_count": null,
   "id": "ed7a4211-40c7-48ab-a3fa-32887202aba2",
   "metadata": {},
   "outputs": [],
   "source": []
  },
  {
   "cell_type": "code",
   "execution_count": null,
   "id": "22aaa8a5-1271-41d6-9eda-a9de6b70bcb5",
   "metadata": {},
   "outputs": [],
   "source": []
  },
  {
   "cell_type": "code",
   "execution_count": null,
   "id": "5a72a799-44a9-48e6-95b4-aa1ed482756d",
   "metadata": {},
   "outputs": [],
   "source": []
  },
  {
   "cell_type": "code",
   "execution_count": null,
   "id": "d19c0c4d-fee0-4f6f-8b3d-f8426fd847e6",
   "metadata": {},
   "outputs": [],
   "source": []
  },
  {
   "cell_type": "code",
   "execution_count": null,
   "id": "1fe5f53c-eb73-467b-ac63-767873a4e976",
   "metadata": {},
   "outputs": [],
   "source": []
  }
 ],
 "metadata": {
  "kernelspec": {
   "display_name": "Python 3 (ipykernel)",
   "language": "python",
   "name": "python3"
  },
  "language_info": {
   "codemirror_mode": {
    "name": "ipython",
    "version": 3
   },
   "file_extension": ".py",
   "mimetype": "text/x-python",
   "name": "python",
   "nbconvert_exporter": "python",
   "pygments_lexer": "ipython3",
   "version": "3.11.6"
  }
 },
 "nbformat": 4,
 "nbformat_minor": 5
}
